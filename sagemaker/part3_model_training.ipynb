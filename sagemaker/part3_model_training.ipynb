{
 "cells": [
  {
   "cell_type": "markdown",
   "metadata": {
    "nbpresent": {
     "id": "ab61f0ef-4ade-4e0b-a1ce-439a16eeb63d"
    }
   },
   "source": [
    "https://docs.aws.amazon.com/sagemaker/latest/dg/mxnet-example1.html\n",
    "\n",
    "https://github.com/aws/sagemaker-python-sdk\n",
    "\n",
    "http://sagemaker.readthedocs.io/en/latest/"
   ]
  },
  {
   "cell_type": "code",
   "execution_count": 1,
   "metadata": {},
   "outputs": [
    {
     "name": "stderr",
     "output_type": "stream",
     "text": [
      "/home/ec2-user/anaconda3/envs/mxnet_p36/lib/python3.6/site-packages/urllib3/contrib/pyopenssl.py:46: DeprecationWarning: OpenSSL.rand is deprecated - you should use os.urandom instead\n",
      "  import OpenSSL.SSL\n"
     ]
    }
   ],
   "source": [
    "import mxnet as mx\n",
    "import numpy as np\n",
    "from sagemaker.mxnet import MXNet\n",
    "from sagemaker import get_execution_role\n",
    "from io import BytesIO\n",
    "import boto3"
   ]
  },
  {
   "cell_type": "markdown",
   "metadata": {},
   "source": [
    "First, we define the Job that "
   ]
  },
  {
   "cell_type": "code",
   "execution_count": 2,
   "metadata": {
    "collapsed": true,
    "nbpresent": {
     "id": "76663134-57e2-4591-aee4-1ea6ddeda683"
    }
   },
   "outputs": [],
   "source": [
    "role = get_execution_role()\n",
    "\n",
    "mnist_estimator = MXNet(entry_point='part2_sm_mnist.py',\n",
    "                        py_version='py3',\n",
    "                        role=role,\n",
    "                        train_instance_count=1, \n",
    "                        train_instance_type='ml.p2.xlarge')"
   ]
  },
  {
   "cell_type": "markdown",
   "metadata": {
    "nbpresent": {
     "id": "353fa8b1-7ec9-43f8-bc8e-334ba86995b8"
    }
   },
   "source": [
    "Now we can call the fit() method. This does a few things behind the scenes, but of note:\n",
    "1. This fit() method's input argument is an S3 address (or address in a dictionary). The method then automatically downloads the file(s) onto the instance to a preset directory. Recall from part2 that these file locations are in the 'channel_input_dirs' argument going into the training script's train() method.\n",
    "2. This method begins a Sagemaker Job, which you can find on the [Sagemaker Console](https://console.aws.amazon.com/sagemaker/home), under the \"Jobs\" tab on the left.\n",
    "3. Once the job is complete, a Model will be created, which you can also find on the Sagemaker Console."
   ]
  },
  {
   "cell_type": "code",
   "execution_count": 3,
   "metadata": {
    "nbpresent": {
     "id": "4d237dee-f1f7-4a5f-9ab8-4d5fa1125f79"
    }
   },
   "outputs": [
    {
     "name": "stderr",
     "output_type": "stream",
     "text": [
      "INFO:sagemaker:Created S3 bucket: sagemaker-us-east-1-148356438281\n",
      "INFO:sagemaker:Creating training-job with name: sagemaker-mxnet-py3-gpu-2018-01-14-00-01-31-025\n"
     ]
    },
    {
     "name": "stdout",
     "output_type": "stream",
     "text": [
      ".................................................................................\n",
      "\u001b[31mexecuting startup script (first run)\u001b[0m\n",
      "\u001b[31m2018-01-14 00:08:09,661 INFO - root - running container entrypoint\u001b[0m\n",
      "\u001b[31m2018-01-14 00:08:09,662 INFO - root - starting train task\u001b[0m\n",
      "\u001b[31m2018-01-14 00:08:11,508 INFO - mxnet_container.train - MXNetTrainingEnvironment: {'available_gpus': 1, 'output_data_dir': '/opt/ml/output/data/', 'user_script_name': 'part2_sm_mnist.py', 'hosts': ['algo-1'], 'available_cpus': 4, 'user_script_archive': 's3://sagemaker-us-east-1-148356438281/sagemaker-mxnet-py3-gpu-2018-01-14-00-01-31-025/source/sourcedir.tar.gz', 'enable_cloudwatch_metrics': False, 'code_dir': '/opt/ml/code', 'hyperparameters': {'sagemaker_container_log_level': 20, 'sagemaker_job_name': 'sagemaker-mxnet-py3-gpu-2018-01-14-00-01-31-025', 'sagemaker_program': 'part2_sm_mnist.py', 'sagemaker_region': 'us-east-1', 'sagemaker_submit_directory': 's3://sagemaker-us-east-1-148356438281/sagemaker-mxnet-py3-gpu-2018-01-14-00-01-31-025/source/sourcedir.tar.gz', 'sagemaker_enable_cloudwatch_metrics': False}, 'channels': {'images': {'S3DistributionType': 'FullyReplicated', 'TrainingInputMode': 'File', 'RecordWrapperType': 'None'}, 'labels': {'S3DistributionType': 'FullyReplicated', 'TrainingInputMode': 'File', 'RecordWrapperType': 'None'}}, 'model_dir': '/opt/ml/model', 'input_config_dir': '/opt/ml/input/config', 'output_dir': '/opt/ml/output', 'input_dir': '/opt/ml/input', '_ps_port': 8000, 'sagemaker_region': 'us-east-1', 'resource_config': {'hosts': ['algo-1'], 'current_host': 'algo-1'}, 'base_dir': '/opt/ml', 'current_host': 'algo-1', 'container_log_level': 20, 'channel_dirs': {'images': '/opt/ml/input/data/images', 'labels': '/opt/ml/input/data/labels'}, '_ps_verbose': 0}\u001b[0m\n",
      "\u001b[31mDownloading s3://sagemaker-us-east-1-148356438281/sagemaker-mxnet-py3-gpu-2018-01-14-00-01-31-025/source/sourcedir.tar.gz to /tmp/script.tar.gz\u001b[0m\n",
      "\u001b[31m2018-01-14 00:08:11,599 INFO - botocore.vendored.requests.packages.urllib3.connectionpool - Starting new HTTP connection (1): 169.254.170.2\u001b[0m\n",
      "\u001b[31m2018-01-14 00:08:11,674 INFO - botocore.vendored.requests.packages.urllib3.connectionpool - Starting new HTTPS connection (1): s3.amazonaws.com\u001b[0m\n",
      "\u001b[31m2018-01-14 00:08:11,730 INFO - root - training images directory detected as: /opt/ml/input/data/images\u001b[0m\n",
      "\u001b[31m2018-01-14 00:08:11,731 INFO - root - training labels directory detected as: /opt/ml/input/data/labels\u001b[0m\n"
     ]
    },
    {
     "name": "stderr",
     "output_type": "stream",
     "text": [
      "/home/ec2-user/anaconda3/envs/mxnet_p36/lib/python3.6/site-packages/sagemaker/session.py:630: DeprecationWarning: generator 'multi_stream_iter' raised StopIteration\n",
      "  for idx, event in sagemaker.logs.multi_stream_iter(client, log_group, stream_names, positions):\n"
     ]
    },
    {
     "name": "stdout",
     "output_type": "stream",
     "text": [
      "\u001b[31m2018-01-14 00:08:57,562 INFO - root - X_train.shape: (60000, 1, 28, 28)\u001b[0m\n",
      "\u001b[31m2018-01-14 00:08:57,562 INFO - root - y_train.shape: (60000,)\u001b[0m\n",
      "\u001b[31m[00:09:01] src/operator/././cudnn_algoreg-inl.h:106: Running performance tests to find the best convolution algorithm, this can take a while... (setting env variable MXNET_CUDNN_AUTOTUNE_DEFAULT to 0 to disable)\u001b[0m\n",
      "\u001b[31m2018-01-14 00:09:03,981 INFO - root - Epoch[0] Train-accuracy=0.881117\u001b[0m\n",
      "\u001b[31m2018-01-14 00:09:03,982 INFO - root - Epoch[0] Time cost=2.203\u001b[0m\n",
      "\u001b[31m2018-01-14 00:09:06,173 INFO - root - Epoch[1] Train-accuracy=0.973967\u001b[0m\n",
      "\u001b[31m2018-01-14 00:09:06,173 INFO - root - Epoch[1] Time cost=2.187\u001b[0m\n",
      "\u001b[31m2018-01-14 00:09:08,364 INFO - root - Epoch[2] Train-accuracy=0.980733\u001b[0m\n",
      "\u001b[31m2018-01-14 00:09:08,364 INFO - root - Epoch[2] Time cost=2.187\u001b[0m\n",
      "\u001b[31m2018-01-14 00:09:10,553 INFO - root - Epoch[3] Train-accuracy=0.985050\u001b[0m\n",
      "\u001b[31m2018-01-14 00:09:10,553 INFO - root - Epoch[3] Time cost=2.186\u001b[0m\n",
      "\u001b[31m2018-01-14 00:09:12,744 INFO - root - Epoch[4] Train-accuracy=0.986983\u001b[0m\n",
      "\u001b[31m2018-01-14 00:09:12,744 INFO - root - Epoch[4] Time cost=2.187\u001b[0m\n",
      "===== Job Complete =====\n"
     ]
    }
   ],
   "source": [
    "#mnist_estimator.fit(\"s3://jakechenawspublic/sample_data/mnist/train/\")\n",
    "mnist_estimator.fit(inputs={'images':'s3://jakechenawspublic/sample_data/mnist/train/images',\n",
    "                            'labels':'s3://jakechenawspublic/sample_data/mnist/train/labels'})"
   ]
  },
  {
   "cell_type": "markdown",
   "metadata": {},
   "source": [
    "Now we can deploy this model."
   ]
  },
  {
   "cell_type": "code",
   "execution_count": 4,
   "metadata": {
    "nbpresent": {
     "id": "0ca4f6d5-a6b7-4fce-8c58-b9d00a1b3fe3"
    },
    "scrolled": true
   },
   "outputs": [
    {
     "name": "stderr",
     "output_type": "stream",
     "text": [
      "INFO:sagemaker:Creating model with name: sagemaker-mxnet-py3-gpu-2018-01-14-00-01-31-025\n",
      "INFO:sagemaker:Creating endpoint with name tutorial-mnist-endpoint\n"
     ]
    },
    {
     "name": "stdout",
     "output_type": "stream",
     "text": [
      "----------------------------------------------------------------------------------------------------------------------------!"
     ]
    }
   ],
   "source": [
    "predictor = mnist_estimator.deploy(instance_type=\"ml.m4.xlarge\",\n",
    "                                   initial_instance_count=1,\n",
    "                                   endpoint_name='tutorial-mnist-endpoint')"
   ]
  },
  {
   "cell_type": "markdown",
   "metadata": {},
   "source": [
    "Done! Let's now run a record through the predictor."
   ]
  },
  {
   "cell_type": "code",
   "execution_count": 5,
   "metadata": {},
   "outputs": [
    {
     "data": {
      "text/plain": [
       "(5, 10)"
      ]
     },
     "execution_count": 5,
     "metadata": {},
     "output_type": "execute_result"
    }
   ],
   "source": [
    "X_test = np.loadtxt('images_sm.csv', delimiter=',').reshape(-1, 1, 28, 28)\n",
    "\n",
    "y_proba = np.array(predictor.predict(X_test))\n",
    "\n",
    "y_proba.shape"
   ]
  },
  {
   "cell_type": "markdown",
   "metadata": {},
   "source": [
    "Looks good so far. "
   ]
  },
  {
   "cell_type": "code",
   "execution_count": 6,
   "metadata": {},
   "outputs": [
    {
     "data": {
      "text/plain": [
       "\n",
       "[ 7.  2.  1.  0.  4.]\n",
       "<NDArray 5 @cpu(0)>"
      ]
     },
     "execution_count": 6,
     "metadata": {},
     "output_type": "execute_result"
    }
   ],
   "source": [
    "mx.nd.argmax(mx.nd.array(y_proba), axis=1)"
   ]
  },
  {
   "cell_type": "markdown",
   "metadata": {},
   "source": [
    "Once our predictor is deployed, any future application can take advantage of the prediction endpoint we created above. This allows us to close this development notebook and stop paying for the resources.\n",
    "\n",
    "While we won't do that right now, we can demonstrate this by wiping the 'predictor' object from memory."
   ]
  },
  {
   "cell_type": "code",
   "execution_count": 7,
   "metadata": {},
   "outputs": [
    {
     "ename": "NameError",
     "evalue": "name 'predictor' is not defined",
     "output_type": "error",
     "traceback": [
      "\u001b[0;31m---------------------------------------------------------------------------\u001b[0m",
      "\u001b[0;31mNameError\u001b[0m                                 Traceback (most recent call last)",
      "\u001b[0;32m<ipython-input-7-f9c33853cf89>\u001b[0m in \u001b[0;36m<module>\u001b[0;34m()\u001b[0m\n\u001b[1;32m      1\u001b[0m \u001b[0;32mdel\u001b[0m\u001b[0;34m(\u001b[0m\u001b[0mpredictor\u001b[0m\u001b[0;34m)\u001b[0m\u001b[0;34m\u001b[0m\u001b[0m\n\u001b[0;32m----> 2\u001b[0;31m \u001b[0mpredictor\u001b[0m\u001b[0;34m.\u001b[0m\u001b[0mpredict\u001b[0m\u001b[0;34m(\u001b[0m\u001b[0mX_test\u001b[0m\u001b[0;34m)\u001b[0m\u001b[0;34m\u001b[0m\u001b[0m\n\u001b[0m",
      "\u001b[0;31mNameError\u001b[0m: name 'predictor' is not defined"
     ]
    }
   ],
   "source": [
    "del(predictor)\n",
    "predictor.predict(X_test)"
   ]
  },
  {
   "cell_type": "markdown",
   "metadata": {},
   "source": [
    "Now, let's feed the records through the predictor we deployed from scratch. This can be done by invoking the endpoint using Boto3"
   ]
  },
  {
   "cell_type": "code",
   "execution_count": 8,
   "metadata": {
    "collapsed": true,
    "nbpresent": {
     "id": "d5179098-1282-4277-842e-5d9f940e1d53"
    }
   },
   "outputs": [],
   "source": [
    "s3 = boto3.client('s3')\n",
    "sm = boto3.client('sagemaker')\n",
    "sm_runtime = boto3.client('sagemaker-runtime')"
   ]
  },
  {
   "cell_type": "markdown",
   "metadata": {},
   "source": [
    "First, let's load the new records from S3 into memory."
   ]
  },
  {
   "cell_type": "code",
   "execution_count": 9,
   "metadata": {
    "collapsed": true
   },
   "outputs": [],
   "source": [
    "# Load the image records from S3 into local memory\n",
    "resp = s3.get_object(\n",
    "    Bucket='jakechenawspublic',\n",
    "    Key='sample_data/mnist/test/images/images_sm.csv'\n",
    ")\n",
    "\n",
    "X_test = resp['Body'].read()   "
   ]
  },
  {
   "cell_type": "markdown",
   "metadata": {},
   "source": [
    "Next, let's get the name of the prediction endpoint. If you forgot what this is, you can look it up on the [Sagemaker Console](https://console.aws.amazon.com/sagemaker/home) or by using Boto3 to list out what they are."
   ]
  },
  {
   "cell_type": "code",
   "execution_count": 10,
   "metadata": {
    "nbpresent": {
     "id": "7c5ecaf2-2685-4886-8eee-cc8dc9048e00"
    }
   },
   "outputs": [
    {
     "name": "stdout",
     "output_type": "stream",
     "text": [
      "tutorial-mnist-endpoint\n"
     ]
    }
   ],
   "source": [
    "# Get prediction endpoint\n",
    "resp = sm.list_endpoints()\n",
    "for r in resp['Endpoints']:\n",
    "    print(r['EndpointName'])"
   ]
  },
  {
   "cell_type": "markdown",
   "metadata": {},
   "source": [
    "As shown above, our endpoint name is 'tutorial-mnist-predictor'. Let's now invoke this endpoint.\n",
    "\n",
    "Sagemaker's endpoint API, by default, is set up to receive json or csv. For more info on how input data is processed by default, or on how to customize your own, see [this page](https://github.com/aws/sagemaker-python-sdk#input-processing).\n",
    "\n",
    "We will be using Sagemaker's default CSV input. To do this, we modify both the \"ContentType\" and \"Accept\" parameters to 'text/csv', as shown below. For more information on these parameters, see the [Boto3 documentation for invoke_endpoint()](http://boto3.readthedocs.io/en/latest/reference/services/sagemaker-runtime.html#SageMakerRuntime.Client.invoke_endpoint)"
   ]
  },
  {
   "cell_type": "code",
   "execution_count": 12,
   "metadata": {},
   "outputs": [],
   "source": [
    "# Send the dataset to the prediction endpoint\n",
    "resp = sm_runtime.invoke_endpoint(\n",
    "    EndpointName='tutorial-mnist-endpoint',\n",
    "    Body=X_test,\n",
    "    ContentType='text/csv', # -- These 2 are not required by the docs but very helpful.\n",
    "    Accept='text/csv'       # /  Not sure why the values would be different.\n",
    ")"
   ]
  },
  {
   "cell_type": "code",
   "execution_count": 13,
   "metadata": {},
   "outputs": [
    {
     "data": {
      "text/plain": [
       "(5, 10)"
      ]
     },
     "execution_count": 13,
     "metadata": {},
     "output_type": "execute_result"
    }
   ],
   "source": [
    "# Load the response body back into an Numpy array for further processing\n",
    "b = BytesIO(resp['Body'].read())\n",
    "array = np.loadtxt(b, delimiter=',')\n",
    "array.shape"
   ]
  },
  {
   "cell_type": "markdown",
   "metadata": {},
   "source": [
    "The shape looks good. Now let's see what the predicted numbers are:"
   ]
  },
  {
   "cell_type": "code",
   "execution_count": 14,
   "metadata": {},
   "outputs": [
    {
     "data": {
      "text/plain": [
       "\n",
       "[ 7.  2.  1.  0.  4.]\n",
       "<NDArray 5 @cpu(0)>"
      ]
     },
     "execution_count": 14,
     "metadata": {},
     "output_type": "execute_result"
    }
   ],
   "source": [
    "mx.nd.argmax(mx.nd.array(array), axis=1)"
   ]
  },
  {
   "cell_type": "markdown",
   "metadata": {},
   "source": [
    "Congratulations on reaching the end of this tutorial. To finish up, let's clean up the resources used here so we stop paying for the prediction endpoint. You can do that in the [Sagemaker Console](https://console.aws.amazon.com/sagemaker/home), or using the Boto3 API as demonstrated below."
   ]
  },
  {
   "cell_type": "code",
   "execution_count": null,
   "metadata": {
    "collapsed": true
   },
   "outputs": [],
   "source": [
    "#resp = sm.delete_endpoint(EndpointName='tutorial-mnist-endpoint')\n",
    "#print(resp['ResponseMetadata']['HTTPStatusCode'])"
   ]
  }
 ],
 "metadata": {
  "kernelspec": {
   "display_name": "conda_mxnet_p36",
   "language": "python",
   "name": "conda_mxnet_p36"
  },
  "language_info": {
   "codemirror_mode": {
    "name": "ipython",
    "version": 3
   },
   "file_extension": ".py",
   "mimetype": "text/x-python",
   "name": "python",
   "nbconvert_exporter": "python",
   "pygments_lexer": "ipython3",
   "version": "3.6.2"
  },
  "nbpresent": {
   "slides": {
    "00a283fb-2855-40df-b116-4114f0f70f5e": {
     "id": "00a283fb-2855-40df-b116-4114f0f70f5e",
     "prev": "9c91289a-194c-499a-bc6a-a0fc43367747",
     "regions": {
      "29cf8e84-f9ff-4dc4-a116-585757f6b151": {
       "attrs": {
        "height": 0.8,
        "width": 0.8,
        "x": 0.1,
        "y": 0.1
       },
       "content": {
        "cell": "9e215ed2-7006-4315-bbba-7275f121d06c",
        "part": "whole"
       },
       "id": "29cf8e84-f9ff-4dc4-a116-585757f6b151"
      }
     }
    },
    "055774c0-92d1-4042-a95f-14aa5b8e9fd4": {
     "id": "055774c0-92d1-4042-a95f-14aa5b8e9fd4",
     "prev": "f76a2bda-34d2-4905-8231-2ef5e66d7753",
     "regions": {
      "13841b4a-380b-4c9d-bb64-2e4d3674b456": {
       "attrs": {
        "height": 0.8,
        "width": 0.8,
        "x": 0.1,
        "y": 0.1
       },
       "content": {
        "cell": "ba5cb9bf-aac1-42d0-a2ab-06e3563b959a",
        "part": "whole"
       },
       "id": "13841b4a-380b-4c9d-bb64-2e4d3674b456"
      }
     }
    },
    "0d3f5355-8143-40ca-8c3d-9657095c64bc": {
     "id": "0d3f5355-8143-40ca-8c3d-9657095c64bc",
     "prev": "b858cf22-f056-462c-8ed8-dd2b5fe17672",
     "regions": {
      "d21a6a56-9910-4a5d-80af-b3f02b7742e9": {
       "attrs": {
        "height": 0.8,
        "width": 0.8,
        "x": 0.1,
        "y": 0.1
       },
       "content": {
        "cell": "0ca4f6d5-a6b7-4fce-8c58-b9d00a1b3fe3",
        "part": "whole"
       },
       "id": "d21a6a56-9910-4a5d-80af-b3f02b7742e9"
      }
     }
    },
    "1f572ec6-c719-4a45-a753-6daad66ff06a": {
     "id": "1f572ec6-c719-4a45-a753-6daad66ff06a",
     "prev": "9772effa-5618-4c1c-a3cc-b34423c5cb77",
     "regions": {
      "470622ff-f5b8-4741-9df5-a5f8e13ea940": {
       "attrs": {
        "height": 0.8,
        "width": 0.8,
        "x": 0.1,
        "y": 0.1
       },
       "content": {
        "cell": "d5179098-1282-4277-842e-5d9f940e1d53",
        "part": "whole"
       },
       "id": "470622ff-f5b8-4741-9df5-a5f8e13ea940"
      }
     }
    },
    "72c62915-84ff-418e-bea7-4018cdb7fcb8": {
     "id": "72c62915-84ff-418e-bea7-4018cdb7fcb8",
     "prev": "a2af66d7-b31d-4485-a1f8-02cfa6eefc82",
     "regions": {
      "e31f820d-a578-4f56-ad88-c0785f256eb6": {
       "attrs": {
        "height": 0.8,
        "width": 0.8,
        "x": 0.1,
        "y": 0.1
       },
       "content": {
        "cell": "353fa8b1-7ec9-43f8-bc8e-334ba86995b8",
        "part": "whole"
       },
       "id": "e31f820d-a578-4f56-ad88-c0785f256eb6"
      }
     }
    },
    "92c17372-939f-4d79-93c3-9fd835a6eb93": {
     "id": "92c17372-939f-4d79-93c3-9fd835a6eb93",
     "prev": "00a283fb-2855-40df-b116-4114f0f70f5e",
     "regions": {
      "87f311cd-ba25-4794-8ce0-df892c00e544": {
       "attrs": {
        "height": 0.8,
        "width": 0.8,
        "x": 0.1,
        "y": 0.1
       },
       "content": {
        "cell": "383a3341-f531-4b62-8c5b-62f4ea073e2c",
        "part": "whole"
       },
       "id": "87f311cd-ba25-4794-8ce0-df892c00e544"
      }
     }
    },
    "9772effa-5618-4c1c-a3cc-b34423c5cb77": {
     "id": "9772effa-5618-4c1c-a3cc-b34423c5cb77",
     "prev": "92c17372-939f-4d79-93c3-9fd835a6eb93",
     "regions": {
      "90cf1514-c523-46d0-8495-e99036e7bbca": {
       "attrs": {
        "height": 0.8,
        "width": 0.8,
        "x": 0.1,
        "y": 0.1
       },
       "content": {
        "cell": "45041484-f1df-4e92-beac-333d65da2aae",
        "part": "whole"
       },
       "id": "90cf1514-c523-46d0-8495-e99036e7bbca"
      }
     }
    },
    "9c91289a-194c-499a-bc6a-a0fc43367747": {
     "id": "9c91289a-194c-499a-bc6a-a0fc43367747",
     "prev": "055774c0-92d1-4042-a95f-14aa5b8e9fd4",
     "regions": {
      "32dc0d6f-31e9-41ee-bc40-f55e36b31877": {
       "attrs": {
        "height": 0.8,
        "width": 0.8,
        "x": 0.1,
        "y": 0.1
       },
       "content": {
        "cell": "d101e6a0-7b3a-49d7-bc18-2a742627fb61",
        "part": "whole"
       },
       "id": "32dc0d6f-31e9-41ee-bc40-f55e36b31877"
      }
     }
    },
    "a2af66d7-b31d-4485-a1f8-02cfa6eefc82": {
     "id": "a2af66d7-b31d-4485-a1f8-02cfa6eefc82",
     "prev": null,
     "regions": {
      "e5d0ef6c-6f13-45f3-a748-00b8f0b7aeff": {
       "attrs": {
        "height": 0.8,
        "width": 0.8,
        "x": 0.1,
        "y": 0.1
       },
       "content": {
        "cell": "76663134-57e2-4591-aee4-1ea6ddeda683",
        "part": "whole"
       },
       "id": "e5d0ef6c-6f13-45f3-a748-00b8f0b7aeff"
      }
     }
    },
    "a99ac88e-3782-4bfd-9a23-34236662195d": {
     "id": "a99ac88e-3782-4bfd-9a23-34236662195d",
     "prev": "c005a032-345c-450f-9de4-df360e45736c",
     "regions": {
      "625891a2-5943-47f8-ad76-4bf6ac854ccc": {
       "attrs": {
        "height": 0.8,
        "width": 0.8,
        "x": 0.1,
        "y": 0.1
       },
       "content": {
        "cell": "b0c4575c-be73-4852-a8a5-df7e066e2ffb",
        "part": "whole"
       },
       "id": "625891a2-5943-47f8-ad76-4bf6ac854ccc"
      }
     }
    },
    "b858cf22-f056-462c-8ed8-dd2b5fe17672": {
     "id": "b858cf22-f056-462c-8ed8-dd2b5fe17672",
     "prev": "e5db2685-6d13-4e1a-a7cf-1b4ecb2c1aed",
     "regions": {
      "3eecb136-19cc-4c51-a97e-ef6db51805c1": {
       "attrs": {
        "height": 0.8,
        "width": 0.8,
        "x": 0.1,
        "y": 0.1
       },
       "content": {
        "cell": "d0e0a917-1e8b-433b-9192-6a5e74c44875",
        "part": "whole"
       },
       "id": "3eecb136-19cc-4c51-a97e-ef6db51805c1"
      }
     }
    },
    "c005a032-345c-450f-9de4-df360e45736c": {
     "id": "c005a032-345c-450f-9de4-df360e45736c",
     "prev": "d5d6d6ee-73ee-4f1f-b7a7-69e57d6590a7",
     "regions": {
      "bceb333b-689d-4122-8d58-0a84d38ca9a2": {
       "attrs": {
        "height": 0.8,
        "width": 0.8,
        "x": 0.1,
        "y": 0.1
       },
       "content": {
        "cell": "182f9a09-cad6-4ae7-940b-c6f7e36b81e5",
        "part": "whole"
       },
       "id": "bceb333b-689d-4122-8d58-0a84d38ca9a2"
      }
     }
    },
    "d5d6d6ee-73ee-4f1f-b7a7-69e57d6590a7": {
     "id": "d5d6d6ee-73ee-4f1f-b7a7-69e57d6590a7",
     "prev": "1f572ec6-c719-4a45-a753-6daad66ff06a",
     "regions": {
      "8230206d-265c-4d7b-8179-51e95ceaf467": {
       "attrs": {
        "height": 0.8,
        "width": 0.8,
        "x": 0.1,
        "y": 0.1
       },
       "content": {
        "cell": "7c5ecaf2-2685-4886-8eee-cc8dc9048e00",
        "part": "whole"
       },
       "id": "8230206d-265c-4d7b-8179-51e95ceaf467"
      }
     }
    },
    "e5db2685-6d13-4e1a-a7cf-1b4ecb2c1aed": {
     "id": "e5db2685-6d13-4e1a-a7cf-1b4ecb2c1aed",
     "prev": "72c62915-84ff-418e-bea7-4018cdb7fcb8",
     "regions": {
      "e9aff948-fde1-4cb6-a94a-9eacaea270f4": {
       "attrs": {
        "height": 0.8,
        "width": 0.8,
        "x": 0.1,
        "y": 0.1
       },
       "content": {
        "cell": "4d237dee-f1f7-4a5f-9ab8-4d5fa1125f79",
        "part": "whole"
       },
       "id": "e9aff948-fde1-4cb6-a94a-9eacaea270f4"
      }
     }
    },
    "ec998300-0ba0-4e9e-a531-9e0d8e99fd58": {
     "id": "ec998300-0ba0-4e9e-a531-9e0d8e99fd58",
     "prev": "0d3f5355-8143-40ca-8c3d-9657095c64bc",
     "regions": {
      "52cfc4e6-7753-4cb9-a634-71072beba95d": {
       "attrs": {
        "height": 0.8,
        "width": 0.8,
        "x": 0.1,
        "y": 0.1
       },
       "content": {
        "cell": "badd9dd4-62fa-4a61-b90e-56bc64932234",
        "part": "whole"
       },
       "id": "52cfc4e6-7753-4cb9-a634-71072beba95d"
      }
     }
    },
    "f76a2bda-34d2-4905-8231-2ef5e66d7753": {
     "id": "f76a2bda-34d2-4905-8231-2ef5e66d7753",
     "prev": "ec998300-0ba0-4e9e-a531-9e0d8e99fd58",
     "regions": {
      "c69c32dd-91f5-49ba-9b3f-aa10ac1043be": {
       "attrs": {
        "height": 0.8,
        "width": 0.8,
        "x": 0.1,
        "y": 0.1
       },
       "content": {
        "cell": "0dbdc919-27d2-4be9-8d5a-1b84cba0b736",
        "part": "whole"
       },
       "id": "c69c32dd-91f5-49ba-9b3f-aa10ac1043be"
      }
     }
    }
   },
   "themes": {}
  }
 },
 "nbformat": 4,
 "nbformat_minor": 2
}
