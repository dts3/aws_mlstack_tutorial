{
 "cells": [
  {
   "cell_type": "markdown",
   "metadata": {},
   "source": [
    "https://docs.aws.amazon.com/sagemaker/latest/dg/mxnet-example1.html\n",
    "\n",
    "https://github.com/aws/sagemaker-python-sdk\n",
    "\n",
    "http://sagemaker.readthedocs.io/en/latest/"
   ]
  },
  {
   "cell_type": "code",
   "execution_count": 30,
   "metadata": {},
   "outputs": [],
   "source": [
    "from sagemaker.mxnet import MXNet\n",
    "\n",
    "mnist_estimator = MXNet(entry_point='part2_sm_mnist.py',\n",
    "                        role=role,\n",
    "                        train_instance_count=1, \n",
    "                        train_instance_type='ml.p2.xlarge')"
   ]
  },
  {
   "cell_type": "code",
   "execution_count": 31,
   "metadata": {},
   "outputs": [
    {
     "name": "stderr",
     "output_type": "stream",
     "text": [
      "INFO:sagemaker:Created S3 bucket: sagemaker-us-east-1-148356438281\n",
      "INFO:sagemaker:Creating training-job with name: sagemaker-mxnet-py2-gpu-2018-01-08-03-46-39-965\n"
     ]
    },
    {
     "name": "stdout",
     "output_type": "stream",
     "text": [
      ".................................................................................\n",
      "\u001b[31mexecuting startup script (first run)\u001b[0m\n",
      "\u001b[31m2018-01-08 03:53:21,785 INFO - root - running container entrypoint\u001b[0m\n",
      "\u001b[31m2018-01-08 03:53:21,785 INFO - root - starting train task\u001b[0m\n",
      "\u001b[31m2018-01-08 03:53:23,540 INFO - mxnet_container.train - MXNetTrainingEnvironment: {'enable_cloudwatch_metrics': False, 'available_gpus': 1, 'channels': {u'training': {u'TrainingInputMode': u'File', u'RecordWrapperType': u'None', u'S3DistributionType': u'FullyReplicated'}}, '_ps_verbose': 0, 'resource_config': {u'current_host': u'algo-1', u'hosts': [u'algo-1']}, 'user_script_name': u'part2_sm_mnist.py', 'input_config_dir': '/opt/ml/input/config', 'channel_dirs': {u'training': u'/opt/ml/input/data/training'}, 'code_dir': '/opt/ml/code', 'output_data_dir': '/opt/ml/output/data/', 'output_dir': '/opt/ml/output', 'model_dir': '/opt/ml/model', 'hyperparameters': {u'sagemaker_program': u'part2_sm_mnist.py', u'sagemaker_submit_directory': u's3://sagemaker-us-east-1-148356438281/sagemaker-mxnet-py2-gpu-2018-01-08-03-46-39-965/source/sourcedir.tar.gz', u'sagemaker_region': u'us-east-1', u'sagemaker_enable_cloudwatch_metrics': False, u'sagemaker_job_name': u'sagemaker-mxnet-py2-gpu-2018-01-08-03-46-39-965', u'sagemaker_container_log_level': 20}, 'hosts': [u'algo-1'], '_ps_port': 8000, 'user_script_archive': u's3://sagemaker-us-east-1-148356438281/sagemaker-mxnet-py2-gpu-2018-01-08-03-46-39-965/source/sourcedir.tar.gz', 'sagemaker_region': u'us-east-1', 'input_dir': '/opt/ml/input', 'current_host': u'algo-1', 'container_log_level': 20, 'available_cpus': 4, 'base_dir': '/opt/ml'}\u001b[0m\n",
      "\u001b[31mDownloading s3://sagemaker-us-east-1-148356438281/sagemaker-mxnet-py2-gpu-2018-01-08-03-46-39-965/source/sourcedir.tar.gz to /tmp/script.tar.gz\u001b[0m\n",
      "\u001b[31m2018-01-08 03:53:23,663 INFO - botocore.vendored.requests.packages.urllib3.connectionpool - Starting new HTTP connection (1): 169.254.170.2\u001b[0m\n",
      "\u001b[31m2018-01-08 03:53:23,774 INFO - botocore.vendored.requests.packages.urllib3.connectionpool - Starting new HTTPS connection (1): s3.amazonaws.com\u001b[0m\n",
      "\u001b[31m2018-01-08 03:53:24,108 INFO - root - downloaded http://data.mxnet.io/data/mnist/train-labels-idx1-ubyte.gz into train-labels-idx1-ubyte.gz successfully\u001b[0m\n",
      "\u001b[31m2018-01-08 03:53:24,291 INFO - root - downloaded http://data.mxnet.io/data/mnist/train-images-idx3-ubyte.gz into train-images-idx3-ubyte.gz successfully\u001b[0m\n",
      "\u001b[31m2018-01-08 03:53:24,809 INFO - root - downloaded http://data.mxnet.io/data/mnist/t10k-labels-idx1-ubyte.gz into t10k-labels-idx1-ubyte.gz successfully\u001b[0m\n",
      "\u001b[31m2018-01-08 03:53:24,843 INFO - root - downloaded http://data.mxnet.io/data/mnist/t10k-images-idx3-ubyte.gz into t10k-images-idx3-ubyte.gz successfully\u001b[0m\n",
      "\u001b[31m[03:53:29] src/operator/././cudnn_algoreg-inl.h:106: Running performance tests to find the best convolution algorithm, this can take a while... (setting env variable MXNET_CUDNN_AUTOTUNE_DEFAULT to 0 to disable)\u001b[0m\n",
      "\u001b[31m2018-01-08 03:53:29,591 INFO - root - Epoch[0] Batch [100]#011Speed: 25098.84 samples/sec#011accuracy=0.107525\u001b[0m\n",
      "\u001b[31m2018-01-08 03:53:29,988 INFO - root - Epoch[0] Batch [200]#011Speed: 25212.09 samples/sec#011accuracy=0.110400\u001b[0m\n",
      "\u001b[31m2018-01-08 03:53:30,391 INFO - root - Epoch[0] Batch [300]#011Speed: 24821.41 samples/sec#011accuracy=0.116000\u001b[0m\n",
      "\u001b[31m2018-01-08 03:53:30,792 INFO - root - Epoch[0] Batch [400]#011Speed: 24921.93 samples/sec#011accuracy=0.114000\u001b[0m\n",
      "\u001b[31m2018-01-08 03:53:31,111 INFO - root - Epoch[0] Train-accuracy=0.118734\u001b[0m\n",
      "\u001b[31m2018-01-08 03:53:31,111 INFO - root - Epoch[0] Time cost=1.940\u001b[0m\n",
      "\u001b[31m2018-01-08 03:53:31,337 INFO - root - Epoch[0] Validation-accuracy=0.106000\u001b[0m\n",
      "\u001b[31m2018-01-08 03:53:31,735 INFO - root - Epoch[1] Batch [100]#011Speed: 25232.84 samples/sec#011accuracy=0.111683\u001b[0m\n",
      "\u001b[31m2018-01-08 03:53:32,136 INFO - root - Epoch[1] Batch [200]#011Speed: 24975.83 samples/sec#011accuracy=0.238100\u001b[0m\n",
      "\u001b[31m2018-01-08 03:53:32,532 INFO - root - Epoch[1] Batch [300]#011Speed: 25226.47 samples/sec#011accuracy=0.723000\u001b[0m\n",
      "\u001b[31m2018-01-08 03:53:32,931 INFO - root - Epoch[1] Batch [400]#011Speed: 25107.28 samples/sec#011accuracy=0.872200\u001b[0m\n",
      "\u001b[31m2018-01-08 03:53:33,248 INFO - root - Epoch[1] Train-accuracy=0.902025\u001b[0m\n",
      "\u001b[31m2018-01-08 03:53:33,248 INFO - root - Epoch[1] Time cost=1.912\u001b[0m\n",
      "\u001b[31m2018-01-08 03:53:33,472 INFO - root - Epoch[1] Validation-accuracy=0.922333\u001b[0m\n",
      "\u001b[31m2018-01-08 03:53:33,872 INFO - root - Epoch[2] Batch [100]#011Speed: 25167.56 samples/sec#011accuracy=0.925842\u001b[0m\n",
      "\u001b[31m2018-01-08 03:53:34,278 INFO - root - Epoch[2] Batch [200]#011Speed: 24679.42 samples/sec#011accuracy=0.936900\u001b[0m\n",
      "\u001b[31m2018-01-08 03:53:34,676 INFO - root - Epoch[2] Batch [300]#011Speed: 25137.75 samples/sec#011accuracy=0.944700\u001b[0m\n",
      "\u001b[31m2018-01-08 03:53:35,079 INFO - root - Epoch[2] Batch [400]#011Speed: 24791.14 samples/sec#011accuracy=0.955100\u001b[0m\n",
      "\u001b[31m2018-01-08 03:53:35,395 INFO - root - Epoch[2] Train-accuracy=0.956962\u001b[0m\n",
      "\u001b[31m2018-01-08 03:53:35,396 INFO - root - Epoch[2] Time cost=1.923\u001b[0m\n",
      "\u001b[31m2018-01-08 03:53:35,618 INFO - root - Epoch[2] Validation-accuracy=0.964083\u001b[0m\n",
      "\u001b[31m2018-01-08 03:53:36,020 INFO - root - Epoch[3] Batch [100]#011Speed: 25019.89 samples/sec#011accuracy=0.963861\u001b[0m\n",
      "\u001b[31m2018-01-08 03:53:36,424 INFO - root - Epoch[3] Batch [200]#011Speed: 24758.59 samples/sec#011accuracy=0.967100\u001b[0m\n",
      "\u001b[31m2018-01-08 03:53:36,822 INFO - root - Epoch[3] Batch [300]#011Speed: 25144.34 samples/sec#011accuracy=0.965200\u001b[0m\n",
      "\u001b[31m2018-01-08 03:53:37,222 INFO - root - Epoch[3] Batch [400]#011Speed: 25015.75 samples/sec#011accuracy=0.971700\u001b[0m\n",
      "\u001b[31m2018-01-08 03:53:37,540 INFO - root - Epoch[3] Train-accuracy=0.972278\u001b[0m\n",
      "\u001b[31m2018-01-08 03:53:37,540 INFO - root - Epoch[3] Time cost=1.922\u001b[0m\n",
      "\u001b[31m2018-01-08 03:53:37,762 INFO - root - Epoch[3] Validation-accuracy=0.974250\u001b[0m\n",
      "\u001b[31m2018-01-08 03:53:38,169 INFO - root - Epoch[4] Batch [100]#011Speed: 24733.06 samples/sec#011accuracy=0.974455\u001b[0m\n",
      "\u001b[31m2018-01-08 03:53:38,583 INFO - root - Epoch[4] Batch [200]#011Speed: 24147.77 samples/sec#011accuracy=0.975200\u001b[0m\n",
      "\u001b[31m2018-01-08 03:53:38,983 INFO - root - Epoch[4] Batch [300]#011Speed: 25066.99 samples/sec#011accuracy=0.976100\u001b[0m\n",
      "\u001b[31m2018-01-08 03:53:39,383 INFO - root - Epoch[4] Batch [400]#011Speed: 24991.12 samples/sec#011accuracy=0.978100\u001b[0m\n",
      "\u001b[31m2018-01-08 03:53:39,699 INFO - root - Epoch[4] Train-accuracy=0.979114\u001b[0m\n",
      "\u001b[31m2018-01-08 03:53:39,699 INFO - root - Epoch[4] Time cost=1.936\u001b[0m\n",
      "\u001b[31m2018-01-08 03:53:39,920 INFO - root - Epoch[4] Validation-accuracy=0.979583\u001b[0m\n",
      "\u001b[31m2018-01-08 03:53:40,322 INFO - root - Epoch[5] Batch [100]#011Speed: 25025.72 samples/sec#011accuracy=0.979406\u001b[0m\n",
      "\u001b[31m2018-01-08 03:53:40,722 INFO - root - Epoch[5] Batch [200]#011Speed: 24984.19 samples/sec#011accuracy=0.979800\u001b[0m\n",
      "\u001b[31m2018-01-08 03:53:41,123 INFO - root - Epoch[5] Batch [300]#011Speed: 24945.25 samples/sec#011accuracy=0.979500\u001b[0m\n",
      "\u001b[31m2018-01-08 03:53:41,522 INFO - root - Epoch[5] Batch [400]#011Speed: 25109.35 samples/sec#011accuracy=0.983200\u001b[0m\n",
      "\u001b[31m2018-01-08 03:53:41,835 INFO - root - Epoch[5] Train-accuracy=0.981139\u001b[0m\n",
      "\u001b[31m2018-01-08 03:53:41,836 INFO - root - Epoch[5] Time cost=1.916\u001b[0m\n",
      "\u001b[31m2018-01-08 03:53:42,064 INFO - root - Epoch[5] Validation-accuracy=0.981917\u001b[0m\n",
      "\u001b[31m2018-01-08 03:53:42,464 INFO - root - Epoch[6] Batch [100]#011Speed: 25231.81 samples/sec#011accuracy=0.983366\u001b[0m\n",
      "\u001b[31m2018-01-08 03:53:42,863 INFO - root - Epoch[6] Batch [200]#011Speed: 25086.42 samples/sec#011accuracy=0.982300\u001b[0m\n",
      "\u001b[31m2018-01-08 03:53:43,263 INFO - root - Epoch[6] Batch [300]#011Speed: 24979.64 samples/sec#011accuracy=0.983500\u001b[0m\n",
      "\u001b[31m2018-01-08 03:53:43,662 INFO - root - Epoch[6] Batch [400]#011Speed: 25106.71 samples/sec#011accuracy=0.985500\u001b[0m\n",
      "\u001b[31m2018-01-08 03:53:43,977 INFO - root - Epoch[6] Train-accuracy=0.984177\u001b[0m\n",
      "\u001b[31m2018-01-08 03:53:43,977 INFO - root - Epoch[6] Time cost=1.913\u001b[0m\n",
      "\u001b[31m2018-01-08 03:53:44,206 INFO - root - Epoch[6] Validation-accuracy=0.983250\u001b[0m\n",
      "\u001b[31m2018-01-08 03:53:44,606 INFO - root - Epoch[7] Batch [100]#011Speed: 25191.65 samples/sec#011accuracy=0.985545\u001b[0m\n",
      "\u001b[31m2018-01-08 03:53:45,005 INFO - root - Epoch[7] Batch [200]#011Speed: 25026.90 samples/sec#011accuracy=0.985300\u001b[0m\n",
      "\u001b[31m2018-01-08 03:53:45,410 INFO - root - Epoch[7] Batch [300]#011Speed: 24741.14 samples/sec#011accuracy=0.985300\u001b[0m\n",
      "\u001b[31m2018-01-08 03:53:45,810 INFO - root - Epoch[7] Batch [400]#011Speed: 24999.56 samples/sec#011accuracy=0.987600\u001b[0m\n",
      "\u001b[31m2018-01-08 03:53:46,129 INFO - root - Epoch[7] Train-accuracy=0.986076\u001b[0m\n",
      "\u001b[31m2018-01-08 03:53:46,130 INFO - root - Epoch[7] Time cost=1.923\u001b[0m\n",
      "\u001b[31m2018-01-08 03:53:46,351 INFO - root - Epoch[7] Validation-accuracy=0.984167\u001b[0m\n",
      "\u001b[31m2018-01-08 03:53:46,750 INFO - root - Epoch[8] Batch [100]#011Speed: 25177.83 samples/sec#011accuracy=0.987327\u001b[0m\n",
      "\u001b[31m2018-01-08 03:53:47,151 INFO - root - Epoch[8] Batch [200]#011Speed: 24951.04 samples/sec#011accuracy=0.986700\u001b[0m\n",
      "\u001b[31m2018-01-08 03:53:47,551 INFO - root - Epoch[8] Batch [300]#011Speed: 25054.74 samples/sec#011accuracy=0.988000\u001b[0m\n",
      "\u001b[31m2018-01-08 03:53:47,950 INFO - root - Epoch[8] Batch [400]#011Speed: 25042.88 samples/sec#011accuracy=0.988500\u001b[0m\n",
      "\u001b[31m2018-01-08 03:53:48,266 INFO - root - Epoch[8] Train-accuracy=0.987848\u001b[0m\n",
      "\u001b[31m2018-01-08 03:53:48,266 INFO - root - Epoch[8] Time cost=1.915\u001b[0m\n",
      "\u001b[31m2018-01-08 03:53:48,489 INFO - root - Epoch[8] Validation-accuracy=0.984500\u001b[0m\n",
      "\u001b[31m2018-01-08 03:53:48,888 INFO - root - Epoch[9] Batch [100]#011Speed: 25168.11 samples/sec#011accuracy=0.989208\u001b[0m\n",
      "\u001b[31m2018-01-08 03:53:49,290 INFO - root - Epoch[9] Batch [200]#011Speed: 24890.92 samples/sec#011accuracy=0.988100\u001b[0m\n"
     ]
    },
    {
     "name": "stdout",
     "output_type": "stream",
     "text": [
      "\u001b[31m2018-01-08 03:53:49,690 INFO - root - Epoch[9] Batch [300]#011Speed: 25029.67 samples/sec#011accuracy=0.989800\u001b[0m\n",
      "\u001b[31m2018-01-08 03:53:50,092 INFO - root - Epoch[9] Batch [400]#011Speed: 24873.88 samples/sec#011accuracy=0.991100\u001b[0m\n",
      "\u001b[31m2018-01-08 03:53:50,407 INFO - root - Epoch[9] Train-accuracy=0.989494\u001b[0m\n",
      "\u001b[31m2018-01-08 03:53:50,407 INFO - root - Epoch[9] Time cost=1.918\u001b[0m\n",
      "\u001b[31m2018-01-08 03:53:50,630 INFO - root - Epoch[9] Validation-accuracy=0.985417\u001b[0m\n",
      "===== Job Complete =====\n"
     ]
    }
   ],
   "source": [
    "mnist_estimator.fit(inputs=\"s3://jakechenawstemp\")"
   ]
  },
  {
   "cell_type": "code",
   "execution_count": 34,
   "metadata": {},
   "outputs": [
    {
     "name": "stderr",
     "output_type": "stream",
     "text": [
      "INFO:sagemaker:Creating model with name: sagemaker-mxnet-py2-gpu-2018-01-08-03-46-39-965\n"
     ]
    },
    {
     "ename": "ClientError",
     "evalue": "An error occurred (ValidationException) when calling the CreateModel operation: Could not find model data at s3://sagemaker-us-east-1-148356438281/sagemaker-mxnet-py2-gpu-2018-01-08-03-46-39-965/output/model.tar.gz.",
     "output_type": "error",
     "traceback": [
      "\u001b[0;31m---------------------------------------------------------------------------\u001b[0m",
      "\u001b[0;31mClientError\u001b[0m                               Traceback (most recent call last)",
      "\u001b[0;32m<ipython-input-34-aeafdcb91a99>\u001b[0m in \u001b[0;36m<module>\u001b[0;34m()\u001b[0m\n\u001b[1;32m      1\u001b[0m mnist_estimator.deploy(instance_type=\"ml.c4.xlarge\",\n\u001b[0;32m----> 2\u001b[0;31m                        initial_instance_count=1)\n\u001b[0m",
      "\u001b[0;32m~/anaconda3/envs/mxnet_p36/lib/python3.6/site-packages/sagemaker/estimator.py\u001b[0m in \u001b[0;36mdeploy\u001b[0;34m(self, initial_instance_count, instance_type, endpoint_name, **kwargs)\u001b[0m\n\u001b[1;32m    183\u001b[0m             \u001b[0minstance_type\u001b[0m\u001b[0;34m=\u001b[0m\u001b[0minstance_type\u001b[0m\u001b[0;34m,\u001b[0m\u001b[0;34m\u001b[0m\u001b[0m\n\u001b[1;32m    184\u001b[0m             \u001b[0minitial_instance_count\u001b[0m\u001b[0;34m=\u001b[0m\u001b[0minitial_instance_count\u001b[0m\u001b[0;34m,\u001b[0m\u001b[0;34m\u001b[0m\u001b[0m\n\u001b[0;32m--> 185\u001b[0;31m             endpoint_name=endpoint_name)\n\u001b[0m\u001b[1;32m    186\u001b[0m \u001b[0;34m\u001b[0m\u001b[0m\n\u001b[1;32m    187\u001b[0m     \u001b[0;34m@\u001b[0m\u001b[0mproperty\u001b[0m\u001b[0;34m\u001b[0m\u001b[0m\n",
      "\u001b[0;32m~/anaconda3/envs/mxnet_p36/lib/python3.6/site-packages/sagemaker/model.py\u001b[0m in \u001b[0;36mdeploy\u001b[0;34m(self, initial_instance_count, instance_type, endpoint_name)\u001b[0m\n\u001b[1;32m     87\u001b[0m         \u001b[0mcontainer_def\u001b[0m \u001b[0;34m=\u001b[0m \u001b[0mself\u001b[0m\u001b[0;34m.\u001b[0m\u001b[0mprepare_container_def\u001b[0m\u001b[0;34m(\u001b[0m\u001b[0minstance_type\u001b[0m\u001b[0;34m)\u001b[0m\u001b[0;34m\u001b[0m\u001b[0m\n\u001b[1;32m     88\u001b[0m         \u001b[0mmodel_name\u001b[0m \u001b[0;34m=\u001b[0m \u001b[0mself\u001b[0m\u001b[0;34m.\u001b[0m\u001b[0mname\u001b[0m \u001b[0;32mor\u001b[0m \u001b[0mname_from_image\u001b[0m\u001b[0;34m(\u001b[0m\u001b[0mcontainer_def\u001b[0m\u001b[0;34m[\u001b[0m\u001b[0;34m'Image'\u001b[0m\u001b[0;34m]\u001b[0m\u001b[0;34m)\u001b[0m\u001b[0;34m\u001b[0m\u001b[0m\n\u001b[0;32m---> 89\u001b[0;31m         \u001b[0mself\u001b[0m\u001b[0;34m.\u001b[0m\u001b[0msagemaker_session\u001b[0m\u001b[0;34m.\u001b[0m\u001b[0mcreate_model\u001b[0m\u001b[0;34m(\u001b[0m\u001b[0mmodel_name\u001b[0m\u001b[0;34m,\u001b[0m \u001b[0mself\u001b[0m\u001b[0;34m.\u001b[0m\u001b[0mrole\u001b[0m\u001b[0;34m,\u001b[0m \u001b[0mcontainer_def\u001b[0m\u001b[0;34m,\u001b[0m \u001b[0;34m[\u001b[0m\u001b[0;34m]\u001b[0m\u001b[0;34m)\u001b[0m\u001b[0;34m\u001b[0m\u001b[0m\n\u001b[0m\u001b[1;32m     90\u001b[0m         \u001b[0mproduction_variant\u001b[0m \u001b[0;34m=\u001b[0m \u001b[0msagemaker\u001b[0m\u001b[0;34m.\u001b[0m\u001b[0mproduction_variant\u001b[0m\u001b[0;34m(\u001b[0m\u001b[0mmodel_name\u001b[0m\u001b[0;34m,\u001b[0m \u001b[0minstance_type\u001b[0m\u001b[0;34m,\u001b[0m \u001b[0minitial_instance_count\u001b[0m\u001b[0;34m)\u001b[0m\u001b[0;34m\u001b[0m\u001b[0m\n\u001b[1;32m     91\u001b[0m         \u001b[0mself\u001b[0m\u001b[0;34m.\u001b[0m\u001b[0mendpoint_name\u001b[0m \u001b[0;34m=\u001b[0m \u001b[0mendpoint_name\u001b[0m \u001b[0;32mor\u001b[0m \u001b[0mmodel_name\u001b[0m\u001b[0;34m\u001b[0m\u001b[0m\n",
      "\u001b[0;32m~/anaconda3/envs/mxnet_p36/lib/python3.6/site-packages/sagemaker/session.py\u001b[0m in \u001b[0;36mcreate_model\u001b[0;34m(self, name, role, primary_container, supplemental_containers)\u001b[0m\n\u001b[1;32m    278\u001b[0m                                            \u001b[0mPrimaryContainer\u001b[0m\u001b[0;34m=\u001b[0m\u001b[0mprimary_container\u001b[0m\u001b[0;34m,\u001b[0m\u001b[0;34m\u001b[0m\u001b[0m\n\u001b[1;32m    279\u001b[0m                                            \u001b[0mSupplementalContainers\u001b[0m\u001b[0;34m=\u001b[0m\u001b[0msupplemental_containers\u001b[0m\u001b[0;34m,\u001b[0m\u001b[0;34m\u001b[0m\u001b[0m\n\u001b[0;32m--> 280\u001b[0;31m                                            ExecutionRoleArn=role)\n\u001b[0m\u001b[1;32m    281\u001b[0m \u001b[0;34m\u001b[0m\u001b[0m\n\u001b[1;32m    282\u001b[0m         \u001b[0;32mreturn\u001b[0m \u001b[0mname\u001b[0m\u001b[0;34m\u001b[0m\u001b[0m\n",
      "\u001b[0;32m~/anaconda3/envs/mxnet_p36/lib/python3.6/site-packages/botocore/client.py\u001b[0m in \u001b[0;36m_api_call\u001b[0;34m(self, *args, **kwargs)\u001b[0m\n\u001b[1;32m    315\u001b[0m                     \"%s() only accepts keyword arguments.\" % py_operation_name)\n\u001b[1;32m    316\u001b[0m             \u001b[0;31m# The \"self\" in this scope is referring to the BaseClient.\u001b[0m\u001b[0;34m\u001b[0m\u001b[0;34m\u001b[0m\u001b[0m\n\u001b[0;32m--> 317\u001b[0;31m             \u001b[0;32mreturn\u001b[0m \u001b[0mself\u001b[0m\u001b[0;34m.\u001b[0m\u001b[0m_make_api_call\u001b[0m\u001b[0;34m(\u001b[0m\u001b[0moperation_name\u001b[0m\u001b[0;34m,\u001b[0m \u001b[0mkwargs\u001b[0m\u001b[0;34m)\u001b[0m\u001b[0;34m\u001b[0m\u001b[0m\n\u001b[0m\u001b[1;32m    318\u001b[0m \u001b[0;34m\u001b[0m\u001b[0m\n\u001b[1;32m    319\u001b[0m         \u001b[0m_api_call\u001b[0m\u001b[0;34m.\u001b[0m\u001b[0m__name__\u001b[0m \u001b[0;34m=\u001b[0m \u001b[0mstr\u001b[0m\u001b[0;34m(\u001b[0m\u001b[0mpy_operation_name\u001b[0m\u001b[0;34m)\u001b[0m\u001b[0;34m\u001b[0m\u001b[0m\n",
      "\u001b[0;32m~/anaconda3/envs/mxnet_p36/lib/python3.6/site-packages/botocore/client.py\u001b[0m in \u001b[0;36m_make_api_call\u001b[0;34m(self, operation_name, api_params)\u001b[0m\n\u001b[1;32m    613\u001b[0m             \u001b[0merror_code\u001b[0m \u001b[0;34m=\u001b[0m \u001b[0mparsed_response\u001b[0m\u001b[0;34m.\u001b[0m\u001b[0mget\u001b[0m\u001b[0;34m(\u001b[0m\u001b[0;34m\"Error\"\u001b[0m\u001b[0;34m,\u001b[0m \u001b[0;34m{\u001b[0m\u001b[0;34m}\u001b[0m\u001b[0;34m)\u001b[0m\u001b[0;34m.\u001b[0m\u001b[0mget\u001b[0m\u001b[0;34m(\u001b[0m\u001b[0;34m\"Code\"\u001b[0m\u001b[0;34m)\u001b[0m\u001b[0;34m\u001b[0m\u001b[0m\n\u001b[1;32m    614\u001b[0m             \u001b[0merror_class\u001b[0m \u001b[0;34m=\u001b[0m \u001b[0mself\u001b[0m\u001b[0;34m.\u001b[0m\u001b[0mexceptions\u001b[0m\u001b[0;34m.\u001b[0m\u001b[0mfrom_code\u001b[0m\u001b[0;34m(\u001b[0m\u001b[0merror_code\u001b[0m\u001b[0;34m)\u001b[0m\u001b[0;34m\u001b[0m\u001b[0m\n\u001b[0;32m--> 615\u001b[0;31m             \u001b[0;32mraise\u001b[0m \u001b[0merror_class\u001b[0m\u001b[0;34m(\u001b[0m\u001b[0mparsed_response\u001b[0m\u001b[0;34m,\u001b[0m \u001b[0moperation_name\u001b[0m\u001b[0;34m)\u001b[0m\u001b[0;34m\u001b[0m\u001b[0m\n\u001b[0m\u001b[1;32m    616\u001b[0m         \u001b[0;32melse\u001b[0m\u001b[0;34m:\u001b[0m\u001b[0;34m\u001b[0m\u001b[0m\n\u001b[1;32m    617\u001b[0m             \u001b[0;32mreturn\u001b[0m \u001b[0mparsed_response\u001b[0m\u001b[0;34m\u001b[0m\u001b[0m\n",
      "\u001b[0;31mClientError\u001b[0m: An error occurred (ValidationException) when calling the CreateModel operation: Could not find model data at s3://sagemaker-us-east-1-148356438281/sagemaker-mxnet-py2-gpu-2018-01-08-03-46-39-965/output/model.tar.gz."
     ]
    }
   ],
   "source": [
    "mnist_estimator.deploy(instance_type=\"ml.c4.xlarge\",\n",
    "                       initial_instance_count=1)"
   ]
  },
  {
   "cell_type": "code",
   "execution_count": null,
   "metadata": {
    "collapsed": true
   },
   "outputs": [],
   "source": []
  }
 ],
 "metadata": {
  "kernelspec": {
   "display_name": "conda_mxnet_p36",
   "language": "python",
   "name": "conda_mxnet_p36"
  },
  "language_info": {
   "codemirror_mode": {
    "name": "ipython",
    "version": 3
   },
   "file_extension": ".py",
   "mimetype": "text/x-python",
   "name": "python",
   "nbconvert_exporter": "python",
   "pygments_lexer": "ipython3",
   "version": "3.6.2"
  }
 },
 "nbformat": 4,
 "nbformat_minor": 2
}
