{
 "cells": [
  {
   "cell_type": "markdown",
   "metadata": {
    "nbpresent": {
     "id": "ab61f0ef-4ade-4e0b-a1ce-439a16eeb63d"
    }
   },
   "source": [
    "https://docs.aws.amazon.com/sagemaker/latest/dg/mxnet-example1.html\n",
    "\n",
    "https://github.com/aws/sagemaker-python-sdk\n",
    "\n",
    "http://sagemaker.readthedocs.io/en/latest/"
   ]
  },
  {
   "cell_type": "code",
   "execution_count": 1,
   "metadata": {},
   "outputs": [
    {
     "name": "stderr",
     "output_type": "stream",
     "text": [
      "/home/ec2-user/anaconda3/envs/mxnet_p36/lib/python3.6/site-packages/urllib3/contrib/pyopenssl.py:46: DeprecationWarning: OpenSSL.rand is deprecated - you should use os.urandom instead\n",
      "  import OpenSSL.SSL\n"
     ]
    }
   ],
   "source": [
    "import mxnet as mx\n",
    "import numpy as np\n",
    "from sagemaker.mxnet import MXNet\n",
    "from sagemaker import get_execution_role\n",
    "from io import BytesIO\n",
    "import boto3"
   ]
  },
  {
   "cell_type": "code",
   "execution_count": 1,
   "metadata": {
    "collapsed": true,
    "nbpresent": {
     "id": "76663134-57e2-4591-aee4-1ea6ddeda683"
    }
   },
   "outputs": [],
   "source": [
    "role = get_execution_role()\n",
    "\n",
    "mnist_estimator = MXNet(entry_point='part2_sm_mnist.py',\n",
    "                        py_version='py3',\n",
    "                        role=role,\n",
    "                        train_instance_count=1, \n",
    "                        train_instance_type='ml.p2.xlarge')"
   ]
  },
  {
   "cell_type": "markdown",
   "metadata": {
    "nbpresent": {
     "id": "353fa8b1-7ec9-43f8-bc8e-334ba86995b8"
    }
   },
   "source": [
    "This creates a Sagemaker Job, which you can find at https://console.aws.amazon.com/sagemaker/home?region=us-east-1#/jobs"
   ]
  },
  {
   "cell_type": "code",
   "execution_count": 6,
   "metadata": {
    "nbpresent": {
     "id": "4d237dee-f1f7-4a5f-9ab8-4d5fa1125f79"
    }
   },
   "outputs": [
    {
     "name": "stderr",
     "output_type": "stream",
     "text": [
      "INFO:sagemaker:Creating training-job with name: sagemaker-mxnet-py3-gpu-2018-01-11-22-40-12-587\n"
     ]
    },
    {
     "name": "stdout",
     "output_type": "stream",
     "text": [
      ".....................................................................................\n",
      "\u001b[31mexecuting startup script (first run)\u001b[0m\n",
      "\u001b[31m2018-01-11 22:47:12,497 INFO - root - running container entrypoint\u001b[0m\n",
      "\u001b[31m2018-01-11 22:47:12,497 INFO - root - starting train task\u001b[0m\n",
      "\u001b[31mDownloading s3://sagemaker-us-east-1-148356438281/sagemaker-mxnet-py3-gpu-2018-01-11-22-40-12-587/source/sourcedir.tar.gz to /tmp/script.tar.gz\u001b[0m\n",
      "\u001b[31m2018-01-11 22:47:14,630 INFO - mxnet_container.train - MXNetTrainingEnvironment: {'resource_config': {'current_host': 'algo-1', 'hosts': ['algo-1']}, 'user_script_archive': 's3://sagemaker-us-east-1-148356438281/sagemaker-mxnet-py3-gpu-2018-01-11-22-40-12-587/source/sourcedir.tar.gz', 'model_dir': '/opt/ml/model', 'channel_dirs': {'labels': '/opt/ml/input/data/labels', 'images': '/opt/ml/input/data/images'}, 'container_log_level': 20, 'base_dir': '/opt/ml', 'available_gpus': 1, '_ps_port': 8000, '_ps_verbose': 0, 'available_cpus': 4, 'input_dir': '/opt/ml/input', 'channels': {'labels': {'RecordWrapperType': 'None', 'TrainingInputMode': 'File', 'S3DistributionType': 'FullyReplicated'}, 'images': {'RecordWrapperType': 'None', 'TrainingInputMode': 'File', 'S3DistributionType': 'FullyReplicated'}}, 'user_script_name': 'part2_sm_mnist.py', 'output_dir': '/opt/ml/output', 'sagemaker_region': 'us-east-1', 'code_dir': '/opt/ml/code', 'input_config_dir': '/opt/ml/input/config', 'hosts': ['algo-1'], 'current_host': 'algo-1', 'enable_cloudwatch_metrics': False, 'output_data_dir': '/opt/ml/output/data/', 'hyperparameters': {'sagemaker_container_log_level': 20, 'sagemaker_job_name': 'sagemaker-mxnet-py3-gpu-2018-01-11-22-40-12-587', 'sagemaker_program': 'part2_sm_mnist.py', 'sagemaker_region': 'us-east-1', 'sagemaker_enable_cloudwatch_metrics': False, 'sagemaker_submit_directory': 's3://sagemaker-us-east-1-148356438281/sagemaker-mxnet-py3-gpu-2018-01-11-22-40-12-587/source/sourcedir.tar.gz'}}\u001b[0m\n",
      "\u001b[31m2018-01-11 22:47:14,887 INFO - botocore.vendored.requests.packages.urllib3.connectionpool - Starting new HTTP connection (1): 169.254.170.2\u001b[0m\n",
      "\u001b[31m2018-01-11 22:47:14,981 INFO - botocore.vendored.requests.packages.urllib3.connectionpool - Starting new HTTPS connection (1): s3.amazonaws.com\u001b[0m\n",
      "\u001b[31m2018-01-11 22:47:15,083 INFO - root - downloaded http://data.mxnet.io/data/mnist/train-labels-idx1-ubyte.gz into train-labels-idx1-ubyte.gz successfully\u001b[0m\n",
      "\u001b[31m2018-01-11 22:47:15,234 INFO - root - downloaded http://data.mxnet.io/data/mnist/train-images-idx3-ubyte.gz into train-images-idx3-ubyte.gz successfully\u001b[0m\n",
      "\u001b[31m2018-01-11 22:47:15,746 INFO - root - downloaded http://data.mxnet.io/data/mnist/t10k-labels-idx1-ubyte.gz into t10k-labels-idx1-ubyte.gz successfully\u001b[0m\n",
      "\u001b[31m2018-01-11 22:47:15,808 INFO - root - downloaded http://data.mxnet.io/data/mnist/t10k-images-idx3-ubyte.gz into t10k-images-idx3-ubyte.gz successfully\u001b[0m\n",
      "\u001b[31m[22:47:19] src/operator/././cudnn_algoreg-inl.h:106: Running performance tests to find the best convolution algorithm, this can take a while... (setting env variable MXNET_CUDNN_AUTOTUNE_DEFAULT to 0 to disable)\u001b[0m\n",
      "\u001b[31m2018-01-11 22:47:20,231 INFO - root - Epoch[0] Batch [100]#011Speed: 25197.55 samples/sec#011accuracy=0.108614\u001b[0m\n",
      "\u001b[31m2018-01-11 22:47:20,631 INFO - root - Epoch[0] Batch [200]#011Speed: 25005.30 samples/sec#011accuracy=0.110200\u001b[0m\n",
      "\u001b[31m2018-01-11 22:47:21,029 INFO - root - Epoch[0] Batch [300]#011Speed: 25151.92 samples/sec#011accuracy=0.116600\u001b[0m\n",
      "\u001b[31m2018-01-11 22:47:21,426 INFO - root - Epoch[0] Batch [400]#011Speed: 25203.03 samples/sec#011accuracy=0.109200\u001b[0m\n",
      "\u001b[31m2018-01-11 22:47:21,830 INFO - root - Epoch[0] Batch [500]#011Speed: 24755.10 samples/sec#011accuracy=0.114600\u001b[0m\n",
      "\u001b[31m2018-01-11 22:47:22,225 INFO - root - Epoch[0] Train-accuracy=0.112323\u001b[0m\n",
      "\u001b[31m2018-01-11 22:47:22,226 INFO - root - Epoch[0] Time cost=2.416\u001b[0m\n",
      "\u001b[31m2018-01-11 22:47:22,414 INFO - root - Epoch[0] Validation-accuracy=0.113500\u001b[0m\n",
      "\u001b[31m2018-01-11 22:47:22,818 INFO - root - Epoch[1] Batch [100]#011Speed: 24845.01 samples/sec#011accuracy=0.127723\u001b[0m\n",
      "\u001b[31m2018-01-11 22:47:23,216 INFO - root - Epoch[1] Batch [200]#011Speed: 25177.03 samples/sec#011accuracy=0.545600\u001b[0m\n",
      "\u001b[31m2018-01-11 22:47:23,614 INFO - root - Epoch[1] Batch [300]#011Speed: 25125.06 samples/sec#011accuracy=0.849300\u001b[0m\n",
      "\u001b[31m2018-01-11 22:47:24,014 INFO - root - Epoch[1] Batch [400]#011Speed: 25010.86 samples/sec#011accuracy=0.899600\u001b[0m\n",
      "\u001b[31m2018-01-11 22:47:24,413 INFO - root - Epoch[1] Batch [500]#011Speed: 25094.72 samples/sec#011accuracy=0.922300\u001b[0m\n",
      "\u001b[31m2018-01-11 22:47:24,809 INFO - root - Epoch[1] Train-accuracy=0.930404\u001b[0m\n",
      "\u001b[31m2018-01-11 22:47:24,809 INFO - root - Epoch[1] Time cost=2.395\u001b[0m\n",
      "\u001b[31m2018-01-11 22:47:24,996 INFO - root - Epoch[1] Validation-accuracy=0.940800\u001b[0m\n",
      "\u001b[31m2018-01-11 22:47:25,396 INFO - root - Epoch[2] Batch [100]#011Speed: 25181.59 samples/sec#011accuracy=0.940792\u001b[0m\n",
      "\u001b[31m2018-01-11 22:47:25,799 INFO - root - Epoch[2] Batch [200]#011Speed: 24830.96 samples/sec#011accuracy=0.950800\u001b[0m\n",
      "\u001b[31m2018-01-11 22:47:26,194 INFO - root - Epoch[2] Batch [300]#011Speed: 25269.94 samples/sec#011accuracy=0.960200\u001b[0m\n",
      "\u001b[31m2018-01-11 22:47:26,592 INFO - root - Epoch[2] Batch [400]#011Speed: 25184.10 samples/sec#011accuracy=0.959900\u001b[0m\n",
      "\u001b[31m2018-01-11 22:47:26,992 INFO - root - Epoch[2] Batch [500]#011Speed: 24987.86 samples/sec#011accuracy=0.966400\u001b[0m\n",
      "\u001b[31m2018-01-11 22:47:27,387 INFO - root - Epoch[2] Train-accuracy=0.968990\u001b[0m\n",
      "\u001b[31m2018-01-11 22:47:27,387 INFO - root - Epoch[2] Time cost=2.391\u001b[0m\n",
      "\u001b[31m2018-01-11 22:47:27,572 INFO - root - Epoch[2] Validation-accuracy=0.969200\u001b[0m\n",
      "\u001b[31m2018-01-11 22:47:27,977 INFO - root - Epoch[3] Batch [100]#011Speed: 24855.18 samples/sec#011accuracy=0.967624\u001b[0m\n",
      "\u001b[31m2018-01-11 22:47:28,375 INFO - root - Epoch[3] Batch [200]#011Speed: 25174.38 samples/sec#011accuracy=0.972700\u001b[0m\n",
      "\u001b[31m2018-01-11 22:47:28,778 INFO - root - Epoch[3] Batch [300]#011Speed: 24825.09 samples/sec#011accuracy=0.974900\u001b[0m\n",
      "\u001b[31m2018-01-11 22:47:29,176 INFO - root - Epoch[3] Batch [400]#011Speed: 25133.11 samples/sec#011accuracy=0.974600\u001b[0m\n",
      "\u001b[31m2018-01-11 22:47:29,572 INFO - root - Epoch[3] Batch [500]#011Speed: 25233.97 samples/sec#011accuracy=0.976900\u001b[0m\n",
      "\u001b[31m2018-01-11 22:47:29,969 INFO - root - Epoch[3] Train-accuracy=0.979697\u001b[0m\n",
      "\u001b[31m2018-01-11 22:47:29,969 INFO - root - Epoch[3] Time cost=2.397\u001b[0m\n",
      "\u001b[31m2018-01-11 22:47:30,155 INFO - root - Epoch[3] Validation-accuracy=0.977300\u001b[0m\n",
      "\u001b[31m2018-01-11 22:47:30,554 INFO - root - Epoch[4] Batch [100]#011Speed: 25244.51 samples/sec#011accuracy=0.977228\u001b[0m\n",
      "\u001b[31m2018-01-11 22:47:30,972 INFO - root - Epoch[4] Batch [200]#011Speed: 23892.95 samples/sec#011accuracy=0.981600\u001b[0m\n",
      "\u001b[31m2018-01-11 22:47:31,369 INFO - root - Epoch[4] Batch [300]#011Speed: 25231.89 samples/sec#011accuracy=0.980200\u001b[0m\n",
      "\u001b[31m2018-01-11 22:47:31,771 INFO - root - Epoch[4] Batch [400]#011Speed: 24913.08 samples/sec#011accuracy=0.980500\u001b[0m\n",
      "\u001b[31m2018-01-11 22:47:32,170 INFO - root - Epoch[4] Batch [500]#011Speed: 25076.13 samples/sec#011accuracy=0.982000\u001b[0m\n",
      "\u001b[31m2018-01-11 22:47:32,564 INFO - root - Epoch[4] Train-accuracy=0.983636\u001b[0m\n",
      "\u001b[31m2018-01-11 22:47:32,565 INFO - root - Epoch[4] Time cost=2.409\u001b[0m\n",
      "\u001b[31m2018-01-11 22:47:32,760 INFO - root - Epoch[4] Validation-accuracy=0.979800\u001b[0m\n",
      "\u001b[31m2018-01-11 22:47:33,160 INFO - root - Epoch[5] Batch [100]#011Speed: 25123.01 samples/sec#011accuracy=0.981089\u001b[0m\n",
      "\u001b[31m2018-01-11 22:47:33,557 INFO - root - Epoch[5] Batch [200]#011Speed: 25188.52 samples/sec#011accuracy=0.984800\u001b[0m\n",
      "\u001b[31m2018-01-11 22:47:33,963 INFO - root - Epoch[5] Batch [300]#011Speed: 24693.38 samples/sec#011accuracy=0.983900\u001b[0m\n",
      "\u001b[31m2018-01-11 22:47:34,360 INFO - root - Epoch[5] Batch [400]#011Speed: 25207.15 samples/sec#011accuracy=0.983900\u001b[0m\n",
      "\u001b[31m2018-01-11 22:47:34,760 INFO - root - Epoch[5] Batch [500]#011Speed: 24993.33 samples/sec#011accuracy=0.985100\u001b[0m\n",
      "\u001b[31m2018-01-11 22:47:35,155 INFO - root - Epoch[5] Train-accuracy=0.986465\u001b[0m\n",
      "\u001b[31m2018-01-11 22:47:35,155 INFO - root - Epoch[5] Time cost=2.396\u001b[0m\n",
      "\u001b[31m2018-01-11 22:47:35,343 INFO - root - Epoch[5] Validation-accuracy=0.981600\u001b[0m\n",
      "\u001b[31m2018-01-11 22:47:35,745 INFO - root - Epoch[6] Batch [100]#011Speed: 24983.64 samples/sec#011accuracy=0.984554\u001b[0m\n",
      "\u001b[31m2018-01-11 22:47:36,144 INFO - root - Epoch[6] Batch [200]#011Speed: 25078.38 samples/sec#011accuracy=0.987100\u001b[0m\n",
      "\u001b[31m2018-01-11 22:47:36,541 INFO - root - Epoch[6] Batch [300]#011Speed: 25263.35 samples/sec#011accuracy=0.986600\u001b[0m\n",
      "\u001b[31m2018-01-11 22:47:36,943 INFO - root - Epoch[6] Batch [400]#011Speed: 24884.85 samples/sec#011accuracy=0.987700\u001b[0m\n",
      "\u001b[31m2018-01-11 22:47:37,342 INFO - root - Epoch[6] Batch [500]#011Speed: 25021.17 samples/sec#011accuracy=0.987800\u001b[0m\n",
      "\u001b[31m2018-01-11 22:47:37,739 INFO - root - Epoch[6] Train-accuracy=0.988283\u001b[0m\n",
      "\u001b[31m2018-01-11 22:47:37,739 INFO - root - Epoch[6] Time cost=2.396\u001b[0m\n",
      "\u001b[31m2018-01-11 22:47:37,926 INFO - root - Epoch[6] Validation-accuracy=0.984400\u001b[0m\n",
      "\u001b[31m2018-01-11 22:47:38,326 INFO - root - Epoch[7] Batch [100]#011Speed: 25141.94 samples/sec#011accuracy=0.987129\u001b[0m\n",
      "\u001b[31m2018-01-11 22:47:38,726 INFO - root - Epoch[7] Batch [200]#011Speed: 24979.54 samples/sec#011accuracy=0.989300\u001b[0m\n",
      "\u001b[31m2018-01-11 22:47:39,125 INFO - root - Epoch[7] Batch [300]#011Speed: 25097.17 samples/sec#011accuracy=0.988700\u001b[0m\n",
      "\u001b[31m2018-01-11 22:47:39,531 INFO - root - Epoch[7] Batch [400]#011Speed: 24686.39 samples/sec#011accuracy=0.988700\u001b[0m\n",
      "\u001b[31m2018-01-11 22:47:39,932 INFO - root - Epoch[7] Batch [500]#011Speed: 24943.41 samples/sec#011accuracy=0.989700\u001b[0m\n",
      "\u001b[31m2018-01-11 22:47:40,328 INFO - root - Epoch[7] Train-accuracy=0.989394\u001b[0m\n",
      "\u001b[31m2018-01-11 22:47:40,329 INFO - root - Epoch[7] Time cost=2.403\u001b[0m\n",
      "\u001b[31m2018-01-11 22:47:40,516 INFO - root - Epoch[7] Validation-accuracy=0.986200\u001b[0m\n"
     ]
    },
    {
     "name": "stdout",
     "output_type": "stream",
     "text": [
      "\u001b[31m2018-01-11 22:47:40,921 INFO - root - Epoch[8] Batch [100]#011Speed: 24842.34 samples/sec#011accuracy=0.988515\u001b[0m\n",
      "\u001b[31m2018-01-11 22:47:41,319 INFO - root - Epoch[8] Batch [200]#011Speed: 25153.25 samples/sec#011accuracy=0.991100\u001b[0m\n",
      "\u001b[31m2018-01-11 22:47:41,720 INFO - root - Epoch[8] Batch [300]#011Speed: 24945.11 samples/sec#011accuracy=0.990400\u001b[0m\n",
      "\u001b[31m2018-01-11 22:47:42,122 INFO - root - Epoch[8] Batch [400]#011Speed: 24914.59 samples/sec#011accuracy=0.989500\u001b[0m\n",
      "\u001b[31m2018-01-11 22:47:42,520 INFO - root - Epoch[8] Batch [500]#011Speed: 25100.73 samples/sec#011accuracy=0.991200\u001b[0m\n",
      "\u001b[31m2018-01-11 22:47:42,918 INFO - root - Epoch[8] Train-accuracy=0.990707\u001b[0m\n",
      "\u001b[31m2018-01-11 22:47:42,918 INFO - root - Epoch[8] Time cost=2.402\u001b[0m\n",
      "\u001b[31m2018-01-11 22:47:43,107 INFO - root - Epoch[8] Validation-accuracy=0.986800\u001b[0m\n",
      "\u001b[31m2018-01-11 22:47:43,507 INFO - root - Epoch[9] Batch [100]#011Speed: 25210.99 samples/sec#011accuracy=0.990000\u001b[0m\n",
      "\u001b[31m2018-01-11 22:47:43,910 INFO - root - Epoch[9] Batch [200]#011Speed: 24813.35 samples/sec#011accuracy=0.992700\u001b[0m\n",
      "\u001b[31m2018-01-11 22:47:44,308 INFO - root - Epoch[9] Batch [300]#011Speed: 25118.18 samples/sec#011accuracy=0.991500\u001b[0m\n",
      "\u001b[31m2018-01-11 22:47:44,709 INFO - root - Epoch[9] Batch [400]#011Speed: 24937.39 samples/sec#011accuracy=0.990700\u001b[0m\n",
      "\u001b[31m2018-01-11 22:47:45,106 INFO - root - Epoch[9] Batch [500]#011Speed: 25194.90 samples/sec#011accuracy=0.992100\u001b[0m\n",
      "\u001b[31m2018-01-11 22:47:45,501 INFO - root - Epoch[9] Train-accuracy=0.991515\u001b[0m\n",
      "\u001b[31m2018-01-11 22:47:45,501 INFO - root - Epoch[9] Time cost=2.393\u001b[0m\n",
      "\u001b[31m2018-01-11 22:47:45,695 INFO - root - Epoch[9] Validation-accuracy=0.988000\u001b[0m\n",
      "===== Job Complete =====\n"
     ]
    }
   ],
   "source": [
    "#mnist_estimator.fit(\"s3://jakechenawspublic/sample_data/mnist/train/\")\n",
    "mnist_estimator.fit({'images':'s3://jakechenawspublic/sample_data/mnist/train/images',\n",
    "                     'labels':'s3://jakechenawspublic/sample_data/mnist/train/labels'})"
   ]
  },
  {
   "cell_type": "markdown",
   "metadata": {
    "nbpresent": {
     "id": "d0e0a917-1e8b-433b-9192-6a5e74c44875"
    }
   },
   "source": [
    "This fit() function automatically downloads the file(s). Recall from part2 that these file locations are in the 'channel_input_dirs' argument going into the training script's train() method."
   ]
  },
  {
   "cell_type": "code",
   "execution_count": 7,
   "metadata": {
    "nbpresent": {
     "id": "0ca4f6d5-a6b7-4fce-8c58-b9d00a1b3fe3"
    },
    "scrolled": true
   },
   "outputs": [
    {
     "name": "stderr",
     "output_type": "stream",
     "text": [
      "INFO:sagemaker:Creating model with name: sagemaker-mxnet-py3-gpu-2018-01-11-22-40-12-587\n",
      "INFO:sagemaker:Creating endpoint with name sagemaker-mxnet-py3-gpu-2018-01-11-22-40-12-587\n"
     ]
    },
    {
     "name": "stdout",
     "output_type": "stream",
     "text": [
      "--------------------------------------------------------------------------------------------------------------------------------------------------------------!"
     ]
    }
   ],
   "source": [
    "predictor = mnist_estimator.deploy(instance_type=\"ml.m4.xlarge\",\n",
    "                                   initial_instance_count=1)"
   ]
  },
  {
   "cell_type": "code",
   "execution_count": 22,
   "metadata": {
    "collapsed": true
   },
   "outputs": [],
   "source": [
    "X_test = np.loadtxt('images_sm.csv', delimiter=',').reshape(-1, 1, 28, 28)"
   ]
  },
  {
   "cell_type": "code",
   "execution_count": 23,
   "metadata": {},
   "outputs": [
    {
     "ename": "ParamValidationError",
     "evalue": "Parameter validation failed:\nInvalid type for parameter Body, value: [[[[ 0.  0.  0. ...,  0.  0.  0.]\n   [ 0.  0.  0. ...,  0.  0.  0.]\n   [ 0.  0.  0. ...,  0.  0.  0.]\n   ..., \n   [ 0.  0.  0. ...,  0.  0.  0.]\n   [ 0.  0.  0. ...,  0.  0.  0.]\n   [ 0.  0.  0. ...,  0.  0.  0.]]]\n\n\n [[[ 0.  0.  0. ...,  0.  0.  0.]\n   [ 0.  0.  0. ...,  0.  0.  0.]\n   [ 0.  0.  0. ...,  0.  0.  0.]\n   ..., \n   [ 0.  0.  0. ...,  0.  0.  0.]\n   [ 0.  0.  0. ...,  0.  0.  0.]\n   [ 0.  0.  0. ...,  0.  0.  0.]]]\n\n\n [[[ 0.  0.  0. ...,  0.  0.  0.]\n   [ 0.  0.  0. ...,  0.  0.  0.]\n   [ 0.  0.  0. ...,  0.  0.  0.]\n   ..., \n   [ 0.  0.  0. ...,  0.  0.  0.]\n   [ 0.  0.  0. ...,  0.  0.  0.]\n   [ 0.  0.  0. ...,  0.  0.  0.]]]\n\n\n [[[ 0.  0.  0. ...,  0.  0.  0.]\n   [ 0.  0.  0. ...,  0.  0.  0.]\n   [ 0.  0.  0. ...,  0.  0.  0.]\n   ..., \n   [ 0.  0.  0. ...,  0.  0.  0.]\n   [ 0.  0.  0. ...,  0.  0.  0.]\n   [ 0.  0.  0. ...,  0.  0.  0.]]]\n\n\n [[[ 0.  0.  0. ...,  0.  0.  0.]\n   [ 0.  0.  0. ...,  0.  0.  0.]\n   [ 0.  0.  0. ...,  0.  0.  0.]\n   ..., \n   [ 0.  0.  0. ...,  0.  0.  0.]\n   [ 0.  0.  0. ...,  0.  0.  0.]\n   [ 0.  0.  0. ...,  0.  0.  0.]]]], type: <class 'numpy.ndarray'>, valid types: <class 'bytes'>, <class 'bytearray'>, file-like object",
     "output_type": "error",
     "traceback": [
      "\u001b[0;31m---------------------------------------------------------------------------\u001b[0m",
      "\u001b[0;31mParamValidationError\u001b[0m                      Traceback (most recent call last)",
      "\u001b[0;32m<ipython-input-23-5b8efb972675>\u001b[0m in \u001b[0;36m<module>\u001b[0;34m()\u001b[0m\n\u001b[0;32m----> 1\u001b[0;31m \u001b[0my_proba\u001b[0m \u001b[0;34m=\u001b[0m \u001b[0mpredictor\u001b[0m\u001b[0;34m.\u001b[0m\u001b[0mpredict\u001b[0m\u001b[0;34m(\u001b[0m\u001b[0mX_test\u001b[0m\u001b[0;34m)\u001b[0m\u001b[0;34m\u001b[0m\u001b[0m\n\u001b[0m",
      "\u001b[0;32m~/anaconda3/envs/mxnet_p36/lib/python3.6/site-packages/sagemaker/predictor.py\u001b[0m in \u001b[0;36mpredict\u001b[0;34m(self, data)\u001b[0m\n\u001b[1;32m     84\u001b[0m             \u001b[0mrequest_args\u001b[0m\u001b[0;34m[\u001b[0m\u001b[0;34m'Accept'\u001b[0m\u001b[0;34m]\u001b[0m \u001b[0;34m=\u001b[0m \u001b[0mself\u001b[0m\u001b[0;34m.\u001b[0m\u001b[0maccept\u001b[0m\u001b[0;34m\u001b[0m\u001b[0m\n\u001b[1;32m     85\u001b[0m \u001b[0;34m\u001b[0m\u001b[0m\n\u001b[0;32m---> 86\u001b[0;31m         \u001b[0mresponse\u001b[0m \u001b[0;34m=\u001b[0m \u001b[0mself\u001b[0m\u001b[0;34m.\u001b[0m\u001b[0msagemaker_session\u001b[0m\u001b[0;34m.\u001b[0m\u001b[0msagemaker_runtime_client\u001b[0m\u001b[0;34m.\u001b[0m\u001b[0minvoke_endpoint\u001b[0m\u001b[0;34m(\u001b[0m\u001b[0;34m**\u001b[0m\u001b[0mrequest_args\u001b[0m\u001b[0;34m)\u001b[0m\u001b[0;34m\u001b[0m\u001b[0m\n\u001b[0m\u001b[1;32m     87\u001b[0m \u001b[0;34m\u001b[0m\u001b[0m\n\u001b[1;32m     88\u001b[0m         \u001b[0mresponse_body\u001b[0m \u001b[0;34m=\u001b[0m \u001b[0mresponse\u001b[0m\u001b[0;34m[\u001b[0m\u001b[0;34m'Body'\u001b[0m\u001b[0;34m]\u001b[0m\u001b[0;34m\u001b[0m\u001b[0m\n",
      "\u001b[0;32m~/anaconda3/envs/mxnet_p36/lib/python3.6/site-packages/botocore/client.py\u001b[0m in \u001b[0;36m_api_call\u001b[0;34m(self, *args, **kwargs)\u001b[0m\n\u001b[1;32m    315\u001b[0m                     \"%s() only accepts keyword arguments.\" % py_operation_name)\n\u001b[1;32m    316\u001b[0m             \u001b[0;31m# The \"self\" in this scope is referring to the BaseClient.\u001b[0m\u001b[0;34m\u001b[0m\u001b[0;34m\u001b[0m\u001b[0m\n\u001b[0;32m--> 317\u001b[0;31m             \u001b[0;32mreturn\u001b[0m \u001b[0mself\u001b[0m\u001b[0;34m.\u001b[0m\u001b[0m_make_api_call\u001b[0m\u001b[0;34m(\u001b[0m\u001b[0moperation_name\u001b[0m\u001b[0;34m,\u001b[0m \u001b[0mkwargs\u001b[0m\u001b[0;34m)\u001b[0m\u001b[0;34m\u001b[0m\u001b[0m\n\u001b[0m\u001b[1;32m    318\u001b[0m \u001b[0;34m\u001b[0m\u001b[0m\n\u001b[1;32m    319\u001b[0m         \u001b[0m_api_call\u001b[0m\u001b[0;34m.\u001b[0m\u001b[0m__name__\u001b[0m \u001b[0;34m=\u001b[0m \u001b[0mstr\u001b[0m\u001b[0;34m(\u001b[0m\u001b[0mpy_operation_name\u001b[0m\u001b[0;34m)\u001b[0m\u001b[0;34m\u001b[0m\u001b[0m\n",
      "\u001b[0;32m~/anaconda3/envs/mxnet_p36/lib/python3.6/site-packages/botocore/client.py\u001b[0m in \u001b[0;36m_make_api_call\u001b[0;34m(self, operation_name, api_params)\u001b[0m\n\u001b[1;32m    587\u001b[0m         }\n\u001b[1;32m    588\u001b[0m         request_dict = self._convert_to_request_dict(\n\u001b[0;32m--> 589\u001b[0;31m             api_params, operation_model, context=request_context)\n\u001b[0m\u001b[1;32m    590\u001b[0m \u001b[0;34m\u001b[0m\u001b[0m\n\u001b[1;32m    591\u001b[0m         handler, event_response = self.meta.events.emit_until_response(\n",
      "\u001b[0;32m~/anaconda3/envs/mxnet_p36/lib/python3.6/site-packages/botocore/client.py\u001b[0m in \u001b[0;36m_convert_to_request_dict\u001b[0;34m(self, api_params, operation_model, context)\u001b[0m\n\u001b[1;32m    642\u001b[0m \u001b[0;34m\u001b[0m\u001b[0m\n\u001b[1;32m    643\u001b[0m         request_dict = self._serializer.serialize_to_request(\n\u001b[0;32m--> 644\u001b[0;31m             api_params, operation_model)\n\u001b[0m\u001b[1;32m    645\u001b[0m         prepare_request_dict(request_dict, endpoint_url=self._endpoint.host,\n\u001b[1;32m    646\u001b[0m                              \u001b[0muser_agent\u001b[0m\u001b[0;34m=\u001b[0m\u001b[0mself\u001b[0m\u001b[0;34m.\u001b[0m\u001b[0m_client_config\u001b[0m\u001b[0;34m.\u001b[0m\u001b[0muser_agent\u001b[0m\u001b[0;34m,\u001b[0m\u001b[0;34m\u001b[0m\u001b[0m\n",
      "\u001b[0;32m~/anaconda3/envs/mxnet_p36/lib/python3.6/site-packages/botocore/validate.py\u001b[0m in \u001b[0;36mserialize_to_request\u001b[0;34m(self, parameters, operation_model)\u001b[0m\n\u001b[1;32m    289\u001b[0m                                                     operation_model.input_shape)\n\u001b[1;32m    290\u001b[0m             \u001b[0;32mif\u001b[0m \u001b[0mreport\u001b[0m\u001b[0;34m.\u001b[0m\u001b[0mhas_errors\u001b[0m\u001b[0;34m(\u001b[0m\u001b[0;34m)\u001b[0m\u001b[0;34m:\u001b[0m\u001b[0;34m\u001b[0m\u001b[0m\n\u001b[0;32m--> 291\u001b[0;31m                 \u001b[0;32mraise\u001b[0m \u001b[0mParamValidationError\u001b[0m\u001b[0;34m(\u001b[0m\u001b[0mreport\u001b[0m\u001b[0;34m=\u001b[0m\u001b[0mreport\u001b[0m\u001b[0;34m.\u001b[0m\u001b[0mgenerate_report\u001b[0m\u001b[0;34m(\u001b[0m\u001b[0;34m)\u001b[0m\u001b[0;34m)\u001b[0m\u001b[0;34m\u001b[0m\u001b[0m\n\u001b[0m\u001b[1;32m    292\u001b[0m         return self._serializer.serialize_to_request(parameters,\n\u001b[1;32m    293\u001b[0m                                                      operation_model)\n",
      "\u001b[0;31mParamValidationError\u001b[0m: Parameter validation failed:\nInvalid type for parameter Body, value: [[[[ 0.  0.  0. ...,  0.  0.  0.]\n   [ 0.  0.  0. ...,  0.  0.  0.]\n   [ 0.  0.  0. ...,  0.  0.  0.]\n   ..., \n   [ 0.  0.  0. ...,  0.  0.  0.]\n   [ 0.  0.  0. ...,  0.  0.  0.]\n   [ 0.  0.  0. ...,  0.  0.  0.]]]\n\n\n [[[ 0.  0.  0. ...,  0.  0.  0.]\n   [ 0.  0.  0. ...,  0.  0.  0.]\n   [ 0.  0.  0. ...,  0.  0.  0.]\n   ..., \n   [ 0.  0.  0. ...,  0.  0.  0.]\n   [ 0.  0.  0. ...,  0.  0.  0.]\n   [ 0.  0.  0. ...,  0.  0.  0.]]]\n\n\n [[[ 0.  0.  0. ...,  0.  0.  0.]\n   [ 0.  0.  0. ...,  0.  0.  0.]\n   [ 0.  0.  0. ...,  0.  0.  0.]\n   ..., \n   [ 0.  0.  0. ...,  0.  0.  0.]\n   [ 0.  0.  0. ...,  0.  0.  0.]\n   [ 0.  0.  0. ...,  0.  0.  0.]]]\n\n\n [[[ 0.  0.  0. ...,  0.  0.  0.]\n   [ 0.  0.  0. ...,  0.  0.  0.]\n   [ 0.  0.  0. ...,  0.  0.  0.]\n   ..., \n   [ 0.  0.  0. ...,  0.  0.  0.]\n   [ 0.  0.  0. ...,  0.  0.  0.]\n   [ 0.  0.  0. ...,  0.  0.  0.]]]\n\n\n [[[ 0.  0.  0. ...,  0.  0.  0.]\n   [ 0.  0.  0. ...,  0.  0.  0.]\n   [ 0.  0.  0. ...,  0.  0.  0.]\n   ..., \n   [ 0.  0.  0. ...,  0.  0.  0.]\n   [ 0.  0.  0. ...,  0.  0.  0.]\n   [ 0.  0.  0. ...,  0.  0.  0.]]]], type: <class 'numpy.ndarray'>, valid types: <class 'bytes'>, <class 'bytearray'>, file-like object"
     ]
    }
   ],
   "source": [
    "y_proba = predictor.predict(X_test)"
   ]
  },
  {
   "cell_type": "code",
   "execution_count": null,
   "metadata": {
    "collapsed": true
   },
   "outputs": [],
   "source": [
    "mx.nd.array(y_proba).argmax()"
   ]
  },
  {
   "cell_type": "markdown",
   "metadata": {
    "nbpresent": {
     "id": "0dbdc919-27d2-4be9-8d5a-1b84cba0b736"
    }
   },
   "source": [
    "To recall a previously trained predictor, you can simply instantiate a RealTimePredictor on the Sagemaker endpoint. You can find this endpoint in [Sagemaker's AWS Console](https://console.aws.amazon.com/sagemaker) under \"Endpoints\" on the left."
   ]
  },
  {
   "cell_type": "code",
   "execution_count": 19,
   "metadata": {
    "nbpresent": {
     "id": "ba5cb9bf-aac1-42d0-a2ab-06e3563b959a"
    }
   },
   "outputs": [
    {
     "ename": "ParamValidationError",
     "evalue": "Parameter validation failed:\nInvalid type for parameter Body, value: [[[[ 0.  0.  0. ...,  0.  0.  0.]\n   [ 0.  0.  0. ...,  0.  0.  0.]\n   [ 0.  0.  0. ...,  0.  0.  0.]\n   ..., \n   [ 0.  0.  0. ...,  0.  0.  0.]\n   [ 0.  0.  0. ...,  0.  0.  0.]\n   [ 0.  0.  0. ...,  0.  0.  0.]]]\n\n\n [[[ 0.  0.  0. ...,  0.  0.  0.]\n   [ 0.  0.  0. ...,  0.  0.  0.]\n   [ 0.  0.  0. ...,  0.  0.  0.]\n   ..., \n   [ 0.  0.  0. ...,  0.  0.  0.]\n   [ 0.  0.  0. ...,  0.  0.  0.]\n   [ 0.  0.  0. ...,  0.  0.  0.]]]\n\n\n [[[ 0.  0.  0. ...,  0.  0.  0.]\n   [ 0.  0.  0. ...,  0.  0.  0.]\n   [ 0.  0.  0. ...,  0.  0.  0.]\n   ..., \n   [ 0.  0.  0. ...,  0.  0.  0.]\n   [ 0.  0.  0. ...,  0.  0.  0.]\n   [ 0.  0.  0. ...,  0.  0.  0.]]]\n\n\n [[[ 0.  0.  0. ...,  0.  0.  0.]\n   [ 0.  0.  0. ...,  0.  0.  0.]\n   [ 0.  0.  0. ...,  0.  0.  0.]\n   ..., \n   [ 0.  0.  0. ...,  0.  0.  0.]\n   [ 0.  0.  0. ...,  0.  0.  0.]\n   [ 0.  0.  0. ...,  0.  0.  0.]]]\n\n\n [[[ 0.  0.  0. ...,  0.  0.  0.]\n   [ 0.  0.  0. ...,  0.  0.  0.]\n   [ 0.  0.  0. ...,  0.  0.  0.]\n   ..., \n   [ 0.  0.  0. ...,  0.  0.  0.]\n   [ 0.  0.  0. ...,  0.  0.  0.]\n   [ 0.  0.  0. ...,  0.  0.  0.]]]], type: <class 'numpy.ndarray'>, valid types: <class 'bytes'>, <class 'bytearray'>, file-like object",
     "output_type": "error",
     "traceback": [
      "\u001b[0;31m---------------------------------------------------------------------------\u001b[0m",
      "\u001b[0;31mParamValidationError\u001b[0m                      Traceback (most recent call last)",
      "\u001b[0;32m<ipython-input-19-d973f2ee27fb>\u001b[0m in \u001b[0;36m<module>\u001b[0;34m()\u001b[0m\n\u001b[1;32m      3\u001b[0m \u001b[0mpredictor\u001b[0m \u001b[0;34m=\u001b[0m \u001b[0mRealTimePredictor\u001b[0m\u001b[0;34m(\u001b[0m\u001b[0;34m'sagemaker-mxnet-py3-gpu-2018-01-11-22-40-12-587'\u001b[0m\u001b[0;34m)\u001b[0m\u001b[0;34m\u001b[0m\u001b[0m\n\u001b[1;32m      4\u001b[0m \u001b[0;34m\u001b[0m\u001b[0m\n\u001b[0;32m----> 5\u001b[0;31m \u001b[0mpredictor\u001b[0m\u001b[0;34m.\u001b[0m\u001b[0mpredict\u001b[0m\u001b[0;34m(\u001b[0m\u001b[0mX_test\u001b[0m\u001b[0;34m)\u001b[0m\u001b[0;34m\u001b[0m\u001b[0m\n\u001b[0m",
      "\u001b[0;32m~/anaconda3/envs/mxnet_p36/lib/python3.6/site-packages/sagemaker/predictor.py\u001b[0m in \u001b[0;36mpredict\u001b[0;34m(self, data)\u001b[0m\n\u001b[1;32m     84\u001b[0m             \u001b[0mrequest_args\u001b[0m\u001b[0;34m[\u001b[0m\u001b[0;34m'Accept'\u001b[0m\u001b[0;34m]\u001b[0m \u001b[0;34m=\u001b[0m \u001b[0mself\u001b[0m\u001b[0;34m.\u001b[0m\u001b[0maccept\u001b[0m\u001b[0;34m\u001b[0m\u001b[0m\n\u001b[1;32m     85\u001b[0m \u001b[0;34m\u001b[0m\u001b[0m\n\u001b[0;32m---> 86\u001b[0;31m         \u001b[0mresponse\u001b[0m \u001b[0;34m=\u001b[0m \u001b[0mself\u001b[0m\u001b[0;34m.\u001b[0m\u001b[0msagemaker_session\u001b[0m\u001b[0;34m.\u001b[0m\u001b[0msagemaker_runtime_client\u001b[0m\u001b[0;34m.\u001b[0m\u001b[0minvoke_endpoint\u001b[0m\u001b[0;34m(\u001b[0m\u001b[0;34m**\u001b[0m\u001b[0mrequest_args\u001b[0m\u001b[0;34m)\u001b[0m\u001b[0;34m\u001b[0m\u001b[0m\n\u001b[0m\u001b[1;32m     87\u001b[0m \u001b[0;34m\u001b[0m\u001b[0m\n\u001b[1;32m     88\u001b[0m         \u001b[0mresponse_body\u001b[0m \u001b[0;34m=\u001b[0m \u001b[0mresponse\u001b[0m\u001b[0;34m[\u001b[0m\u001b[0;34m'Body'\u001b[0m\u001b[0;34m]\u001b[0m\u001b[0;34m\u001b[0m\u001b[0m\n",
      "\u001b[0;32m~/anaconda3/envs/mxnet_p36/lib/python3.6/site-packages/botocore/client.py\u001b[0m in \u001b[0;36m_api_call\u001b[0;34m(self, *args, **kwargs)\u001b[0m\n\u001b[1;32m    315\u001b[0m                     \"%s() only accepts keyword arguments.\" % py_operation_name)\n\u001b[1;32m    316\u001b[0m             \u001b[0;31m# The \"self\" in this scope is referring to the BaseClient.\u001b[0m\u001b[0;34m\u001b[0m\u001b[0;34m\u001b[0m\u001b[0m\n\u001b[0;32m--> 317\u001b[0;31m             \u001b[0;32mreturn\u001b[0m \u001b[0mself\u001b[0m\u001b[0;34m.\u001b[0m\u001b[0m_make_api_call\u001b[0m\u001b[0;34m(\u001b[0m\u001b[0moperation_name\u001b[0m\u001b[0;34m,\u001b[0m \u001b[0mkwargs\u001b[0m\u001b[0;34m)\u001b[0m\u001b[0;34m\u001b[0m\u001b[0m\n\u001b[0m\u001b[1;32m    318\u001b[0m \u001b[0;34m\u001b[0m\u001b[0m\n\u001b[1;32m    319\u001b[0m         \u001b[0m_api_call\u001b[0m\u001b[0;34m.\u001b[0m\u001b[0m__name__\u001b[0m \u001b[0;34m=\u001b[0m \u001b[0mstr\u001b[0m\u001b[0;34m(\u001b[0m\u001b[0mpy_operation_name\u001b[0m\u001b[0;34m)\u001b[0m\u001b[0;34m\u001b[0m\u001b[0m\n",
      "\u001b[0;32m~/anaconda3/envs/mxnet_p36/lib/python3.6/site-packages/botocore/client.py\u001b[0m in \u001b[0;36m_make_api_call\u001b[0;34m(self, operation_name, api_params)\u001b[0m\n\u001b[1;32m    587\u001b[0m         }\n\u001b[1;32m    588\u001b[0m         request_dict = self._convert_to_request_dict(\n\u001b[0;32m--> 589\u001b[0;31m             api_params, operation_model, context=request_context)\n\u001b[0m\u001b[1;32m    590\u001b[0m \u001b[0;34m\u001b[0m\u001b[0m\n\u001b[1;32m    591\u001b[0m         handler, event_response = self.meta.events.emit_until_response(\n",
      "\u001b[0;32m~/anaconda3/envs/mxnet_p36/lib/python3.6/site-packages/botocore/client.py\u001b[0m in \u001b[0;36m_convert_to_request_dict\u001b[0;34m(self, api_params, operation_model, context)\u001b[0m\n\u001b[1;32m    642\u001b[0m \u001b[0;34m\u001b[0m\u001b[0m\n\u001b[1;32m    643\u001b[0m         request_dict = self._serializer.serialize_to_request(\n\u001b[0;32m--> 644\u001b[0;31m             api_params, operation_model)\n\u001b[0m\u001b[1;32m    645\u001b[0m         prepare_request_dict(request_dict, endpoint_url=self._endpoint.host,\n\u001b[1;32m    646\u001b[0m                              \u001b[0muser_agent\u001b[0m\u001b[0;34m=\u001b[0m\u001b[0mself\u001b[0m\u001b[0;34m.\u001b[0m\u001b[0m_client_config\u001b[0m\u001b[0;34m.\u001b[0m\u001b[0muser_agent\u001b[0m\u001b[0;34m,\u001b[0m\u001b[0;34m\u001b[0m\u001b[0m\n",
      "\u001b[0;32m~/anaconda3/envs/mxnet_p36/lib/python3.6/site-packages/botocore/validate.py\u001b[0m in \u001b[0;36mserialize_to_request\u001b[0;34m(self, parameters, operation_model)\u001b[0m\n\u001b[1;32m    289\u001b[0m                                                     operation_model.input_shape)\n\u001b[1;32m    290\u001b[0m             \u001b[0;32mif\u001b[0m \u001b[0mreport\u001b[0m\u001b[0;34m.\u001b[0m\u001b[0mhas_errors\u001b[0m\u001b[0;34m(\u001b[0m\u001b[0;34m)\u001b[0m\u001b[0;34m:\u001b[0m\u001b[0;34m\u001b[0m\u001b[0m\n\u001b[0;32m--> 291\u001b[0;31m                 \u001b[0;32mraise\u001b[0m \u001b[0mParamValidationError\u001b[0m\u001b[0;34m(\u001b[0m\u001b[0mreport\u001b[0m\u001b[0;34m=\u001b[0m\u001b[0mreport\u001b[0m\u001b[0;34m.\u001b[0m\u001b[0mgenerate_report\u001b[0m\u001b[0;34m(\u001b[0m\u001b[0;34m)\u001b[0m\u001b[0;34m)\u001b[0m\u001b[0;34m\u001b[0m\u001b[0m\n\u001b[0m\u001b[1;32m    292\u001b[0m         return self._serializer.serialize_to_request(parameters,\n\u001b[1;32m    293\u001b[0m                                                      operation_model)\n",
      "\u001b[0;31mParamValidationError\u001b[0m: Parameter validation failed:\nInvalid type for parameter Body, value: [[[[ 0.  0.  0. ...,  0.  0.  0.]\n   [ 0.  0.  0. ...,  0.  0.  0.]\n   [ 0.  0.  0. ...,  0.  0.  0.]\n   ..., \n   [ 0.  0.  0. ...,  0.  0.  0.]\n   [ 0.  0.  0. ...,  0.  0.  0.]\n   [ 0.  0.  0. ...,  0.  0.  0.]]]\n\n\n [[[ 0.  0.  0. ...,  0.  0.  0.]\n   [ 0.  0.  0. ...,  0.  0.  0.]\n   [ 0.  0.  0. ...,  0.  0.  0.]\n   ..., \n   [ 0.  0.  0. ...,  0.  0.  0.]\n   [ 0.  0.  0. ...,  0.  0.  0.]\n   [ 0.  0.  0. ...,  0.  0.  0.]]]\n\n\n [[[ 0.  0.  0. ...,  0.  0.  0.]\n   [ 0.  0.  0. ...,  0.  0.  0.]\n   [ 0.  0.  0. ...,  0.  0.  0.]\n   ..., \n   [ 0.  0.  0. ...,  0.  0.  0.]\n   [ 0.  0.  0. ...,  0.  0.  0.]\n   [ 0.  0.  0. ...,  0.  0.  0.]]]\n\n\n [[[ 0.  0.  0. ...,  0.  0.  0.]\n   [ 0.  0.  0. ...,  0.  0.  0.]\n   [ 0.  0.  0. ...,  0.  0.  0.]\n   ..., \n   [ 0.  0.  0. ...,  0.  0.  0.]\n   [ 0.  0.  0. ...,  0.  0.  0.]\n   [ 0.  0.  0. ...,  0.  0.  0.]]]\n\n\n [[[ 0.  0.  0. ...,  0.  0.  0.]\n   [ 0.  0.  0. ...,  0.  0.  0.]\n   [ 0.  0.  0. ...,  0.  0.  0.]\n   ..., \n   [ 0.  0.  0. ...,  0.  0.  0.]\n   [ 0.  0.  0. ...,  0.  0.  0.]\n   [ 0.  0.  0. ...,  0.  0.  0.]]]], type: <class 'numpy.ndarray'>, valid types: <class 'bytes'>, <class 'bytearray'>, file-like object"
     ]
    }
   ],
   "source": [
    "from sagemaker.predictor import RealTimePredictor\n",
    "\n",
    "predictor = RealTimePredictor('sagemaker-mxnet-py3-gpu-2018-01-11-22-40-12-587')\n",
    "\n",
    "predictor.predict(X_test)"
   ]
  },
  {
   "cell_type": "markdown",
   "metadata": {
    "nbpresent": {
     "id": "45041484-f1df-4e92-beac-333d65da2aae"
    }
   },
   "source": [
    "Or, find and invoke the endpoint using Boto3"
   ]
  },
  {
   "cell_type": "code",
   "execution_count": 2,
   "metadata": {
    "collapsed": true,
    "nbpresent": {
     "id": "d5179098-1282-4277-842e-5d9f940e1d53"
    }
   },
   "outputs": [],
   "source": [
    "s3 = boto3.client('s3')\n",
    "sm = boto3.client('sagemaker')"
   ]
  },
  {
   "cell_type": "code",
   "execution_count": 4,
   "metadata": {
    "nbpresent": {
     "id": "7c5ecaf2-2685-4886-8eee-cc8dc9048e00"
    }
   },
   "outputs": [
    {
     "name": "stdout",
     "output_type": "stream",
     "text": [
      "sagemaker-mxnet-py3-gpu-2018-01-11-22-40-12-587\n"
     ]
    }
   ],
   "source": [
    "# Get prediction endpoint\n",
    "resp = sm.list_endpoints()\n",
    "for r in resp['Endpoints']:\n",
    "    print(r['EndpointName'])"
   ]
  },
  {
   "cell_type": "code",
   "execution_count": 8,
   "metadata": {
    "collapsed": true
   },
   "outputs": [],
   "source": [
    "# Get y_test\n",
    "s3.download_file(\n",
    "    'jakechenawspublic',\n",
    "    'sample_data/mnist/test/images/images_sm.csv',\n",
    "    'images_sm.csv'\n",
    ")"
   ]
  },
  {
   "cell_type": "markdown",
   "metadata": {},
   "source": [
    "Sagemaker, by default, is set up to receive json or csv. We will use CSV."
   ]
  },
  {
   "cell_type": "code",
   "execution_count": 2,
   "metadata": {},
   "outputs": [
    {
     "data": {
      "text/plain": [
       "(5, 10)"
      ]
     },
     "execution_count": 2,
     "metadata": {},
     "output_type": "execute_result"
    }
   ],
   "source": [
    "sm_runtime = boto3.client('sagemaker-runtime')\n",
    "\n",
    "with open('images_sm.csv', 'rb') as f:\n",
    "    out = sm_runtime.invoke_endpoint(\n",
    "        EndpointName='sagemaker-mxnet-py3-gpu-2018-01-11-22-40-12-587',\n",
    "        Body=f,\n",
    "        ContentType='text/csv',\n",
    "        Accept='text/csv'\n",
    "    )\n",
    "\n",
    "b = BytesIO(out['Body'].read())\n",
    "array = np.loadtxt(b, delimiter=',')\n",
    "array.shape"
   ]
  },
  {
   "cell_type": "code",
   "execution_count": 4,
   "metadata": {},
   "outputs": [
    {
     "data": {
      "text/plain": [
       "\n",
       "[ 7.  2.  1.  0.  4.]\n",
       "<NDArray 5 @cpu(0)>"
      ]
     },
     "execution_count": 4,
     "metadata": {},
     "output_type": "execute_result"
    }
   ],
   "source": [
    "mx.nd.argmax(mx.nd.array(array), axis=1)"
   ]
  },
  {
   "cell_type": "code",
   "execution_count": null,
   "metadata": {
    "collapsed": true
   },
   "outputs": [],
   "source": []
  },
  {
   "cell_type": "code",
   "execution_count": null,
   "metadata": {
    "collapsed": true
   },
   "outputs": [],
   "source": []
  },
  {
   "cell_type": "code",
   "execution_count": null,
   "metadata": {
    "collapsed": true
   },
   "outputs": [],
   "source": []
  }
 ],
 "metadata": {
  "kernelspec": {
   "display_name": "conda_mxnet_p36",
   "language": "python",
   "name": "conda_mxnet_p36"
  },
  "language_info": {
   "codemirror_mode": {
    "name": "ipython",
    "version": 3
   },
   "file_extension": ".py",
   "mimetype": "text/x-python",
   "name": "python",
   "nbconvert_exporter": "python",
   "pygments_lexer": "ipython3",
   "version": "3.6.2"
  },
  "nbpresent": {
   "slides": {
    "00a283fb-2855-40df-b116-4114f0f70f5e": {
     "id": "00a283fb-2855-40df-b116-4114f0f70f5e",
     "prev": "9c91289a-194c-499a-bc6a-a0fc43367747",
     "regions": {
      "29cf8e84-f9ff-4dc4-a116-585757f6b151": {
       "attrs": {
        "height": 0.8,
        "width": 0.8,
        "x": 0.1,
        "y": 0.1
       },
       "content": {
        "cell": "9e215ed2-7006-4315-bbba-7275f121d06c",
        "part": "whole"
       },
       "id": "29cf8e84-f9ff-4dc4-a116-585757f6b151"
      }
     }
    },
    "055774c0-92d1-4042-a95f-14aa5b8e9fd4": {
     "id": "055774c0-92d1-4042-a95f-14aa5b8e9fd4",
     "prev": "f76a2bda-34d2-4905-8231-2ef5e66d7753",
     "regions": {
      "13841b4a-380b-4c9d-bb64-2e4d3674b456": {
       "attrs": {
        "height": 0.8,
        "width": 0.8,
        "x": 0.1,
        "y": 0.1
       },
       "content": {
        "cell": "ba5cb9bf-aac1-42d0-a2ab-06e3563b959a",
        "part": "whole"
       },
       "id": "13841b4a-380b-4c9d-bb64-2e4d3674b456"
      }
     }
    },
    "0d3f5355-8143-40ca-8c3d-9657095c64bc": {
     "id": "0d3f5355-8143-40ca-8c3d-9657095c64bc",
     "prev": "b858cf22-f056-462c-8ed8-dd2b5fe17672",
     "regions": {
      "d21a6a56-9910-4a5d-80af-b3f02b7742e9": {
       "attrs": {
        "height": 0.8,
        "width": 0.8,
        "x": 0.1,
        "y": 0.1
       },
       "content": {
        "cell": "0ca4f6d5-a6b7-4fce-8c58-b9d00a1b3fe3",
        "part": "whole"
       },
       "id": "d21a6a56-9910-4a5d-80af-b3f02b7742e9"
      }
     }
    },
    "1f572ec6-c719-4a45-a753-6daad66ff06a": {
     "id": "1f572ec6-c719-4a45-a753-6daad66ff06a",
     "prev": "9772effa-5618-4c1c-a3cc-b34423c5cb77",
     "regions": {
      "470622ff-f5b8-4741-9df5-a5f8e13ea940": {
       "attrs": {
        "height": 0.8,
        "width": 0.8,
        "x": 0.1,
        "y": 0.1
       },
       "content": {
        "cell": "d5179098-1282-4277-842e-5d9f940e1d53",
        "part": "whole"
       },
       "id": "470622ff-f5b8-4741-9df5-a5f8e13ea940"
      }
     }
    },
    "72c62915-84ff-418e-bea7-4018cdb7fcb8": {
     "id": "72c62915-84ff-418e-bea7-4018cdb7fcb8",
     "prev": "a2af66d7-b31d-4485-a1f8-02cfa6eefc82",
     "regions": {
      "e31f820d-a578-4f56-ad88-c0785f256eb6": {
       "attrs": {
        "height": 0.8,
        "width": 0.8,
        "x": 0.1,
        "y": 0.1
       },
       "content": {
        "cell": "353fa8b1-7ec9-43f8-bc8e-334ba86995b8",
        "part": "whole"
       },
       "id": "e31f820d-a578-4f56-ad88-c0785f256eb6"
      }
     }
    },
    "92c17372-939f-4d79-93c3-9fd835a6eb93": {
     "id": "92c17372-939f-4d79-93c3-9fd835a6eb93",
     "prev": "00a283fb-2855-40df-b116-4114f0f70f5e",
     "regions": {
      "87f311cd-ba25-4794-8ce0-df892c00e544": {
       "attrs": {
        "height": 0.8,
        "width": 0.8,
        "x": 0.1,
        "y": 0.1
       },
       "content": {
        "cell": "383a3341-f531-4b62-8c5b-62f4ea073e2c",
        "part": "whole"
       },
       "id": "87f311cd-ba25-4794-8ce0-df892c00e544"
      }
     }
    },
    "9772effa-5618-4c1c-a3cc-b34423c5cb77": {
     "id": "9772effa-5618-4c1c-a3cc-b34423c5cb77",
     "prev": "92c17372-939f-4d79-93c3-9fd835a6eb93",
     "regions": {
      "90cf1514-c523-46d0-8495-e99036e7bbca": {
       "attrs": {
        "height": 0.8,
        "width": 0.8,
        "x": 0.1,
        "y": 0.1
       },
       "content": {
        "cell": "45041484-f1df-4e92-beac-333d65da2aae",
        "part": "whole"
       },
       "id": "90cf1514-c523-46d0-8495-e99036e7bbca"
      }
     }
    },
    "9c91289a-194c-499a-bc6a-a0fc43367747": {
     "id": "9c91289a-194c-499a-bc6a-a0fc43367747",
     "prev": "055774c0-92d1-4042-a95f-14aa5b8e9fd4",
     "regions": {
      "32dc0d6f-31e9-41ee-bc40-f55e36b31877": {
       "attrs": {
        "height": 0.8,
        "width": 0.8,
        "x": 0.1,
        "y": 0.1
       },
       "content": {
        "cell": "d101e6a0-7b3a-49d7-bc18-2a742627fb61",
        "part": "whole"
       },
       "id": "32dc0d6f-31e9-41ee-bc40-f55e36b31877"
      }
     }
    },
    "a2af66d7-b31d-4485-a1f8-02cfa6eefc82": {
     "id": "a2af66d7-b31d-4485-a1f8-02cfa6eefc82",
     "prev": null,
     "regions": {
      "e5d0ef6c-6f13-45f3-a748-00b8f0b7aeff": {
       "attrs": {
        "height": 0.8,
        "width": 0.8,
        "x": 0.1,
        "y": 0.1
       },
       "content": {
        "cell": "76663134-57e2-4591-aee4-1ea6ddeda683",
        "part": "whole"
       },
       "id": "e5d0ef6c-6f13-45f3-a748-00b8f0b7aeff"
      }
     }
    },
    "a99ac88e-3782-4bfd-9a23-34236662195d": {
     "id": "a99ac88e-3782-4bfd-9a23-34236662195d",
     "prev": "c005a032-345c-450f-9de4-df360e45736c",
     "regions": {
      "625891a2-5943-47f8-ad76-4bf6ac854ccc": {
       "attrs": {
        "height": 0.8,
        "width": 0.8,
        "x": 0.1,
        "y": 0.1
       },
       "content": {
        "cell": "b0c4575c-be73-4852-a8a5-df7e066e2ffb",
        "part": "whole"
       },
       "id": "625891a2-5943-47f8-ad76-4bf6ac854ccc"
      }
     }
    },
    "b858cf22-f056-462c-8ed8-dd2b5fe17672": {
     "id": "b858cf22-f056-462c-8ed8-dd2b5fe17672",
     "prev": "e5db2685-6d13-4e1a-a7cf-1b4ecb2c1aed",
     "regions": {
      "3eecb136-19cc-4c51-a97e-ef6db51805c1": {
       "attrs": {
        "height": 0.8,
        "width": 0.8,
        "x": 0.1,
        "y": 0.1
       },
       "content": {
        "cell": "d0e0a917-1e8b-433b-9192-6a5e74c44875",
        "part": "whole"
       },
       "id": "3eecb136-19cc-4c51-a97e-ef6db51805c1"
      }
     }
    },
    "c005a032-345c-450f-9de4-df360e45736c": {
     "id": "c005a032-345c-450f-9de4-df360e45736c",
     "prev": "d5d6d6ee-73ee-4f1f-b7a7-69e57d6590a7",
     "regions": {
      "bceb333b-689d-4122-8d58-0a84d38ca9a2": {
       "attrs": {
        "height": 0.8,
        "width": 0.8,
        "x": 0.1,
        "y": 0.1
       },
       "content": {
        "cell": "182f9a09-cad6-4ae7-940b-c6f7e36b81e5",
        "part": "whole"
       },
       "id": "bceb333b-689d-4122-8d58-0a84d38ca9a2"
      }
     }
    },
    "d5d6d6ee-73ee-4f1f-b7a7-69e57d6590a7": {
     "id": "d5d6d6ee-73ee-4f1f-b7a7-69e57d6590a7",
     "prev": "1f572ec6-c719-4a45-a753-6daad66ff06a",
     "regions": {
      "8230206d-265c-4d7b-8179-51e95ceaf467": {
       "attrs": {
        "height": 0.8,
        "width": 0.8,
        "x": 0.1,
        "y": 0.1
       },
       "content": {
        "cell": "7c5ecaf2-2685-4886-8eee-cc8dc9048e00",
        "part": "whole"
       },
       "id": "8230206d-265c-4d7b-8179-51e95ceaf467"
      }
     }
    },
    "e5db2685-6d13-4e1a-a7cf-1b4ecb2c1aed": {
     "id": "e5db2685-6d13-4e1a-a7cf-1b4ecb2c1aed",
     "prev": "72c62915-84ff-418e-bea7-4018cdb7fcb8",
     "regions": {
      "e9aff948-fde1-4cb6-a94a-9eacaea270f4": {
       "attrs": {
        "height": 0.8,
        "width": 0.8,
        "x": 0.1,
        "y": 0.1
       },
       "content": {
        "cell": "4d237dee-f1f7-4a5f-9ab8-4d5fa1125f79",
        "part": "whole"
       },
       "id": "e9aff948-fde1-4cb6-a94a-9eacaea270f4"
      }
     }
    },
    "ec998300-0ba0-4e9e-a531-9e0d8e99fd58": {
     "id": "ec998300-0ba0-4e9e-a531-9e0d8e99fd58",
     "prev": "0d3f5355-8143-40ca-8c3d-9657095c64bc",
     "regions": {
      "52cfc4e6-7753-4cb9-a634-71072beba95d": {
       "attrs": {
        "height": 0.8,
        "width": 0.8,
        "x": 0.1,
        "y": 0.1
       },
       "content": {
        "cell": "badd9dd4-62fa-4a61-b90e-56bc64932234",
        "part": "whole"
       },
       "id": "52cfc4e6-7753-4cb9-a634-71072beba95d"
      }
     }
    },
    "f76a2bda-34d2-4905-8231-2ef5e66d7753": {
     "id": "f76a2bda-34d2-4905-8231-2ef5e66d7753",
     "prev": "ec998300-0ba0-4e9e-a531-9e0d8e99fd58",
     "regions": {
      "c69c32dd-91f5-49ba-9b3f-aa10ac1043be": {
       "attrs": {
        "height": 0.8,
        "width": 0.8,
        "x": 0.1,
        "y": 0.1
       },
       "content": {
        "cell": "0dbdc919-27d2-4be9-8d5a-1b84cba0b736",
        "part": "whole"
       },
       "id": "c69c32dd-91f5-49ba-9b3f-aa10ac1043be"
      }
     }
    }
   },
   "themes": {}
  }
 },
 "nbformat": 4,
 "nbformat_minor": 2
}
