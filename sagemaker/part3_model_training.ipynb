{
 "cells": [
  {
   "cell_type": "markdown",
   "metadata": {
    "nbpresent": {
     "id": "ab61f0ef-4ade-4e0b-a1ce-439a16eeb63d"
    }
   },
   "source": [
    "https://docs.aws.amazon.com/sagemaker/latest/dg/mxnet-example1.html\n",
    "\n",
    "https://github.com/aws/sagemaker-python-sdk\n",
    "\n",
    "http://sagemaker.readthedocs.io/en/latest/"
   ]
  },
  {
   "cell_type": "code",
   "execution_count": null,
   "metadata": {},
   "outputs": [],
   "source": [
    "import mxnet as mx\n",
    "import numpy as np\n",
    "from sagemaker.mxnet import MXNet\n",
    "from sagemaker import get_execution_role\n",
    "from io import BytesIO\n",
    "import boto3"
   ]
  },
  {
   "cell_type": "markdown",
   "metadata": {},
   "source": [
    "First, we define the Job that "
   ]
  },
  {
   "cell_type": "code",
   "execution_count": null,
   "metadata": {
    "collapsed": true,
    "nbpresent": {
     "id": "76663134-57e2-4591-aee4-1ea6ddeda683"
    }
   },
   "outputs": [],
   "source": [
    "role = get_execution_role()\n",
    "\n",
    "mnist_estimator = MXNet(entry_point='part2_sm_mnist.py',\n",
    "                        py_version='py3',\n",
    "                        role=role,\n",
    "                        train_instance_count=1, \n",
    "                        train_instance_type='ml.p2.xlarge')"
   ]
  },
  {
   "cell_type": "markdown",
   "metadata": {
    "nbpresent": {
     "id": "353fa8b1-7ec9-43f8-bc8e-334ba86995b8"
    }
   },
   "source": [
    "Now we can call the fit() method. This does a few things behind the scenes, but of note:\n",
    "1. This fit() method's input argument is an S3 address (or address in a dictionary). The method then automatically downloads the file(s) onto the instance to a preset directory. Recall from part2 that these file locations are in the 'channel_input_dirs' argument going into the training script's train() method.\n",
    "2. This method begins a Sagemaker Job, which you can find on the [Sagemaker Console](https://console.aws.amazon.com/sagemaker/home), under the \"Jobs\" tab on the left.\n",
    "3. Once the job is complete, a Model will be created, which you can also find on the Sagemaker Console."
   ]
  },
  {
   "cell_type": "code",
   "execution_count": null,
   "metadata": {
    "nbpresent": {
     "id": "4d237dee-f1f7-4a5f-9ab8-4d5fa1125f79"
    }
   },
   "outputs": [],
   "source": [
    "#mnist_estimator.fit(\"s3://jakechenawspublic/sample_data/mnist/train/\")\n",
    "mnist_estimator.fit(inputs={'images':'s3://jakechenawspublic/sample_data/mnist/train/images',\n",
    "                            'labels':'s3://jakechenawspublic/sample_data/mnist/train/labels'})"
   ]
  },
  {
   "cell_type": "markdown",
   "metadata": {},
   "source": [
    "Now we can deploy this model."
   ]
  },
  {
   "cell_type": "code",
   "execution_count": null,
   "metadata": {
    "nbpresent": {
     "id": "0ca4f6d5-a6b7-4fce-8c58-b9d00a1b3fe3"
    },
    "scrolled": true
   },
   "outputs": [],
   "source": [
    "predictor = mnist_estimator.deploy(instance_type=\"ml.m4.xlarge\",\n",
    "                                   initial_instance_count=1,\n",
    "                                   endpoint_name='tutorial-mnist-endpoint')"
   ]
  },
  {
   "cell_type": "markdown",
   "metadata": {},
   "source": [
    "Done! Let's now run a record through the predictor."
   ]
  },
  {
   "cell_type": "code",
   "execution_count": null,
   "metadata": {},
   "outputs": [],
   "source": [
    "X_test = np.loadtxt('images_sm.csv', delimiter=',').reshape(-1, 1, 28, 28)\n",
    "\n",
    "y_proba = np.array(predictor.predict(X_test))\n",
    "\n",
    "y_proba.shape"
   ]
  },
  {
   "cell_type": "markdown",
   "metadata": {},
   "source": [
    "Looks good so far. "
   ]
  },
  {
   "cell_type": "code",
   "execution_count": null,
   "metadata": {},
   "outputs": [],
   "source": [
    "mx.nd.argmax(mx.nd.array(y_proba), axis=1)"
   ]
  },
  {
   "cell_type": "markdown",
   "metadata": {},
   "source": [
    "Once our predictor is deployed, any future application can take advantage of the prediction endpoint we created above. This allows us to close this development notebook and stop paying for the resources.\n",
    "\n",
    "While we won't do that right now, we can demonstrate this by wiping the 'predictor' object from memory."
   ]
  },
  {
   "cell_type": "code",
   "execution_count": null,
   "metadata": {},
   "outputs": [],
   "source": [
    "del(predictor)\n",
    "predictor.predict(X_test)"
   ]
  },
  {
   "cell_type": "markdown",
   "metadata": {},
   "source": [
    "Now, let's feed the records through the predictor we deployed from scratch. This can be done by invoking the endpoint using Boto3"
   ]
  },
  {
   "cell_type": "code",
   "execution_count": null,
   "metadata": {
    "collapsed": true,
    "nbpresent": {
     "id": "d5179098-1282-4277-842e-5d9f940e1d53"
    }
   },
   "outputs": [],
   "source": [
    "s3 = boto3.client('s3')\n",
    "sm = boto3.client('sagemaker')\n",
    "sm_runtime = boto3.client('sagemaker-runtime')"
   ]
  },
  {
   "cell_type": "markdown",
   "metadata": {},
   "source": [
    "First, let's load the new records from S3 into memory."
   ]
  },
  {
   "cell_type": "code",
   "execution_count": null,
   "metadata": {
    "collapsed": true
   },
   "outputs": [],
   "source": [
    "# Load the image records from S3 into local memory\n",
    "resp = s3.get_object(\n",
    "    Bucket='jakechenawspublic',\n",
    "    Key='sample_data/mnist/test/images/images_sm.csv'\n",
    ")\n",
    "\n",
    "X_test = resp['Body'].read()   "
   ]
  },
  {
   "cell_type": "markdown",
   "metadata": {},
   "source": [
    "Next, let's get the name of the prediction endpoint. If you forgot what this is, you can look it up on the [Sagemaker Console](https://console.aws.amazon.com/sagemaker/home) or by using Boto3 to list out what they are."
   ]
  },
  {
   "cell_type": "code",
   "execution_count": null,
   "metadata": {
    "collapsed": true,
    "nbpresent": {
     "id": "7c5ecaf2-2685-4886-8eee-cc8dc9048e00"
    }
   },
   "outputs": [],
   "source": [
    "# Get prediction endpoint\n",
    "resp = sm.list_endpoints()\n",
    "for r in resp['Endpoints']:\n",
    "    print(r['EndpointName'])"
   ]
  },
  {
   "cell_type": "markdown",
   "metadata": {},
   "source": [
    "As shown above, our endpoint name is 'tutorial-mnist-predictor'. Let's now invoke this endpoint.\n",
    "\n",
    "Sagemaker's endpoint API, by default, is set up to receive json or csv. For more info on how input data is processed by default, or on how to customize your own, see [this page](https://github.com/aws/sagemaker-python-sdk#input-processing).\n",
    "\n",
    "We will be using Sagemaker's default CSV input. To do this, we modify both the \"ContentType\" and \"Accept\" parameters to 'text/csv', as shown below. For more information on these parameters, see the [Boto3 documentation for invoke_endpoint()](http://boto3.readthedocs.io/en/latest/reference/services/sagemaker-runtime.html#SageMakerRuntime.Client.invoke_endpoint)"
   ]
  },
  {
   "cell_type": "code",
   "execution_count": null,
   "metadata": {
    "collapsed": true
   },
   "outputs": [],
   "source": [
    "# Send the dataset to the prediction endpoint\n",
    "resp = sm_runtime.invoke_endpoint(\n",
    "    EndpointName='tutorial-mnist-predictor',\n",
    "    Body=X_test,\n",
    "    ContentType='text/csv', # -- These 2 are not required by the docs but very helpful.\n",
    "    Accept='text/csv'       # /  Not sure why the values would be different.\n",
    ")"
   ]
  },
  {
   "cell_type": "code",
   "execution_count": null,
   "metadata": {
    "collapsed": true
   },
   "outputs": [],
   "source": [
    "# Load the response body back into an Numpy array for further processing\n",
    "b = BytesIO(resp['Body'].read())\n",
    "array = np.loadtxt(b, delimiter=',')\n",
    "array.shape"
   ]
  },
  {
   "cell_type": "markdown",
   "metadata": {},
   "source": [
    "The shape looks good. Now let's see what the predicted numbers are:"
   ]
  },
  {
   "cell_type": "code",
   "execution_count": null,
   "metadata": {
    "collapsed": true
   },
   "outputs": [],
   "source": [
    "mx.nd.argmax(mx.nd.array(array), axis=1)"
   ]
  },
  {
   "cell_type": "markdown",
   "metadata": {},
   "source": [
    "Congratulations on reaching the end of this tutorial. To finish up, let's clean up the resources used here so we stop paying for the prediction endpoint. You can do that in the [Sagemaker Console](https://console.aws.amazon.com/sagemaker/home), or using the Boto3 API as demonstrated below."
   ]
  },
  {
   "cell_type": "code",
   "execution_count": null,
   "metadata": {},
   "outputs": [],
   "source": [
    "resp = sm.delete_endpoint(EndpointName='tutorial-mnist-predictor')\n",
    "print(resp['ResponseMetadata']['HTTPStatusCode'])"
   ]
  },
  {
   "cell_type": "code",
   "execution_count": null,
   "metadata": {
    "collapsed": true
   },
   "outputs": [],
   "source": []
  }
 ],
 "metadata": {
  "kernelspec": {
   "display_name": "conda_mxnet_p36",
   "language": "python",
   "name": "conda_mxnet_p36"
  },
  "language_info": {
   "codemirror_mode": {
    "name": "ipython",
    "version": 3
   },
   "file_extension": ".py",
   "mimetype": "text/x-python",
   "name": "python",
   "nbconvert_exporter": "python",
   "pygments_lexer": "ipython3",
   "version": "3.6.2"
  },
  "nbpresent": {
   "slides": {
    "00a283fb-2855-40df-b116-4114f0f70f5e": {
     "id": "00a283fb-2855-40df-b116-4114f0f70f5e",
     "prev": "9c91289a-194c-499a-bc6a-a0fc43367747",
     "regions": {
      "29cf8e84-f9ff-4dc4-a116-585757f6b151": {
       "attrs": {
        "height": 0.8,
        "width": 0.8,
        "x": 0.1,
        "y": 0.1
       },
       "content": {
        "cell": "9e215ed2-7006-4315-bbba-7275f121d06c",
        "part": "whole"
       },
       "id": "29cf8e84-f9ff-4dc4-a116-585757f6b151"
      }
     }
    },
    "055774c0-92d1-4042-a95f-14aa5b8e9fd4": {
     "id": "055774c0-92d1-4042-a95f-14aa5b8e9fd4",
     "prev": "f76a2bda-34d2-4905-8231-2ef5e66d7753",
     "regions": {
      "13841b4a-380b-4c9d-bb64-2e4d3674b456": {
       "attrs": {
        "height": 0.8,
        "width": 0.8,
        "x": 0.1,
        "y": 0.1
       },
       "content": {
        "cell": "ba5cb9bf-aac1-42d0-a2ab-06e3563b959a",
        "part": "whole"
       },
       "id": "13841b4a-380b-4c9d-bb64-2e4d3674b456"
      }
     }
    },
    "0d3f5355-8143-40ca-8c3d-9657095c64bc": {
     "id": "0d3f5355-8143-40ca-8c3d-9657095c64bc",
     "prev": "b858cf22-f056-462c-8ed8-dd2b5fe17672",
     "regions": {
      "d21a6a56-9910-4a5d-80af-b3f02b7742e9": {
       "attrs": {
        "height": 0.8,
        "width": 0.8,
        "x": 0.1,
        "y": 0.1
       },
       "content": {
        "cell": "0ca4f6d5-a6b7-4fce-8c58-b9d00a1b3fe3",
        "part": "whole"
       },
       "id": "d21a6a56-9910-4a5d-80af-b3f02b7742e9"
      }
     }
    },
    "1f572ec6-c719-4a45-a753-6daad66ff06a": {
     "id": "1f572ec6-c719-4a45-a753-6daad66ff06a",
     "prev": "9772effa-5618-4c1c-a3cc-b34423c5cb77",
     "regions": {
      "470622ff-f5b8-4741-9df5-a5f8e13ea940": {
       "attrs": {
        "height": 0.8,
        "width": 0.8,
        "x": 0.1,
        "y": 0.1
       },
       "content": {
        "cell": "d5179098-1282-4277-842e-5d9f940e1d53",
        "part": "whole"
       },
       "id": "470622ff-f5b8-4741-9df5-a5f8e13ea940"
      }
     }
    },
    "72c62915-84ff-418e-bea7-4018cdb7fcb8": {
     "id": "72c62915-84ff-418e-bea7-4018cdb7fcb8",
     "prev": "a2af66d7-b31d-4485-a1f8-02cfa6eefc82",
     "regions": {
      "e31f820d-a578-4f56-ad88-c0785f256eb6": {
       "attrs": {
        "height": 0.8,
        "width": 0.8,
        "x": 0.1,
        "y": 0.1
       },
       "content": {
        "cell": "353fa8b1-7ec9-43f8-bc8e-334ba86995b8",
        "part": "whole"
       },
       "id": "e31f820d-a578-4f56-ad88-c0785f256eb6"
      }
     }
    },
    "92c17372-939f-4d79-93c3-9fd835a6eb93": {
     "id": "92c17372-939f-4d79-93c3-9fd835a6eb93",
     "prev": "00a283fb-2855-40df-b116-4114f0f70f5e",
     "regions": {
      "87f311cd-ba25-4794-8ce0-df892c00e544": {
       "attrs": {
        "height": 0.8,
        "width": 0.8,
        "x": 0.1,
        "y": 0.1
       },
       "content": {
        "cell": "383a3341-f531-4b62-8c5b-62f4ea073e2c",
        "part": "whole"
       },
       "id": "87f311cd-ba25-4794-8ce0-df892c00e544"
      }
     }
    },
    "9772effa-5618-4c1c-a3cc-b34423c5cb77": {
     "id": "9772effa-5618-4c1c-a3cc-b34423c5cb77",
     "prev": "92c17372-939f-4d79-93c3-9fd835a6eb93",
     "regions": {
      "90cf1514-c523-46d0-8495-e99036e7bbca": {
       "attrs": {
        "height": 0.8,
        "width": 0.8,
        "x": 0.1,
        "y": 0.1
       },
       "content": {
        "cell": "45041484-f1df-4e92-beac-333d65da2aae",
        "part": "whole"
       },
       "id": "90cf1514-c523-46d0-8495-e99036e7bbca"
      }
     }
    },
    "9c91289a-194c-499a-bc6a-a0fc43367747": {
     "id": "9c91289a-194c-499a-bc6a-a0fc43367747",
     "prev": "055774c0-92d1-4042-a95f-14aa5b8e9fd4",
     "regions": {
      "32dc0d6f-31e9-41ee-bc40-f55e36b31877": {
       "attrs": {
        "height": 0.8,
        "width": 0.8,
        "x": 0.1,
        "y": 0.1
       },
       "content": {
        "cell": "d101e6a0-7b3a-49d7-bc18-2a742627fb61",
        "part": "whole"
       },
       "id": "32dc0d6f-31e9-41ee-bc40-f55e36b31877"
      }
     }
    },
    "a2af66d7-b31d-4485-a1f8-02cfa6eefc82": {
     "id": "a2af66d7-b31d-4485-a1f8-02cfa6eefc82",
     "prev": null,
     "regions": {
      "e5d0ef6c-6f13-45f3-a748-00b8f0b7aeff": {
       "attrs": {
        "height": 0.8,
        "width": 0.8,
        "x": 0.1,
        "y": 0.1
       },
       "content": {
        "cell": "76663134-57e2-4591-aee4-1ea6ddeda683",
        "part": "whole"
       },
       "id": "e5d0ef6c-6f13-45f3-a748-00b8f0b7aeff"
      }
     }
    },
    "a99ac88e-3782-4bfd-9a23-34236662195d": {
     "id": "a99ac88e-3782-4bfd-9a23-34236662195d",
     "prev": "c005a032-345c-450f-9de4-df360e45736c",
     "regions": {
      "625891a2-5943-47f8-ad76-4bf6ac854ccc": {
       "attrs": {
        "height": 0.8,
        "width": 0.8,
        "x": 0.1,
        "y": 0.1
       },
       "content": {
        "cell": "b0c4575c-be73-4852-a8a5-df7e066e2ffb",
        "part": "whole"
       },
       "id": "625891a2-5943-47f8-ad76-4bf6ac854ccc"
      }
     }
    },
    "b858cf22-f056-462c-8ed8-dd2b5fe17672": {
     "id": "b858cf22-f056-462c-8ed8-dd2b5fe17672",
     "prev": "e5db2685-6d13-4e1a-a7cf-1b4ecb2c1aed",
     "regions": {
      "3eecb136-19cc-4c51-a97e-ef6db51805c1": {
       "attrs": {
        "height": 0.8,
        "width": 0.8,
        "x": 0.1,
        "y": 0.1
       },
       "content": {
        "cell": "d0e0a917-1e8b-433b-9192-6a5e74c44875",
        "part": "whole"
       },
       "id": "3eecb136-19cc-4c51-a97e-ef6db51805c1"
      }
     }
    },
    "c005a032-345c-450f-9de4-df360e45736c": {
     "id": "c005a032-345c-450f-9de4-df360e45736c",
     "prev": "d5d6d6ee-73ee-4f1f-b7a7-69e57d6590a7",
     "regions": {
      "bceb333b-689d-4122-8d58-0a84d38ca9a2": {
       "attrs": {
        "height": 0.8,
        "width": 0.8,
        "x": 0.1,
        "y": 0.1
       },
       "content": {
        "cell": "182f9a09-cad6-4ae7-940b-c6f7e36b81e5",
        "part": "whole"
       },
       "id": "bceb333b-689d-4122-8d58-0a84d38ca9a2"
      }
     }
    },
    "d5d6d6ee-73ee-4f1f-b7a7-69e57d6590a7": {
     "id": "d5d6d6ee-73ee-4f1f-b7a7-69e57d6590a7",
     "prev": "1f572ec6-c719-4a45-a753-6daad66ff06a",
     "regions": {
      "8230206d-265c-4d7b-8179-51e95ceaf467": {
       "attrs": {
        "height": 0.8,
        "width": 0.8,
        "x": 0.1,
        "y": 0.1
       },
       "content": {
        "cell": "7c5ecaf2-2685-4886-8eee-cc8dc9048e00",
        "part": "whole"
       },
       "id": "8230206d-265c-4d7b-8179-51e95ceaf467"
      }
     }
    },
    "e5db2685-6d13-4e1a-a7cf-1b4ecb2c1aed": {
     "id": "e5db2685-6d13-4e1a-a7cf-1b4ecb2c1aed",
     "prev": "72c62915-84ff-418e-bea7-4018cdb7fcb8",
     "regions": {
      "e9aff948-fde1-4cb6-a94a-9eacaea270f4": {
       "attrs": {
        "height": 0.8,
        "width": 0.8,
        "x": 0.1,
        "y": 0.1
       },
       "content": {
        "cell": "4d237dee-f1f7-4a5f-9ab8-4d5fa1125f79",
        "part": "whole"
       },
       "id": "e9aff948-fde1-4cb6-a94a-9eacaea270f4"
      }
     }
    },
    "ec998300-0ba0-4e9e-a531-9e0d8e99fd58": {
     "id": "ec998300-0ba0-4e9e-a531-9e0d8e99fd58",
     "prev": "0d3f5355-8143-40ca-8c3d-9657095c64bc",
     "regions": {
      "52cfc4e6-7753-4cb9-a634-71072beba95d": {
       "attrs": {
        "height": 0.8,
        "width": 0.8,
        "x": 0.1,
        "y": 0.1
       },
       "content": {
        "cell": "badd9dd4-62fa-4a61-b90e-56bc64932234",
        "part": "whole"
       },
       "id": "52cfc4e6-7753-4cb9-a634-71072beba95d"
      }
     }
    },
    "f76a2bda-34d2-4905-8231-2ef5e66d7753": {
     "id": "f76a2bda-34d2-4905-8231-2ef5e66d7753",
     "prev": "ec998300-0ba0-4e9e-a531-9e0d8e99fd58",
     "regions": {
      "c69c32dd-91f5-49ba-9b3f-aa10ac1043be": {
       "attrs": {
        "height": 0.8,
        "width": 0.8,
        "x": 0.1,
        "y": 0.1
       },
       "content": {
        "cell": "0dbdc919-27d2-4be9-8d5a-1b84cba0b736",
        "part": "whole"
       },
       "id": "c69c32dd-91f5-49ba-9b3f-aa10ac1043be"
      }
     }
    }
   },
   "themes": {}
  }
 },
 "nbformat": 4,
 "nbformat_minor": 2
}
